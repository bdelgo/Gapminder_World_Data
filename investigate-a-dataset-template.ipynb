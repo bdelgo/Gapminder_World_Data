{
 "cells": [
  {
   "cell_type": "markdown",
   "metadata": {},
   "source": [
    "# Gapminder World: Population, Age, Life Expectency, Income and Health in the world\n",
    "\n",
    "## Table of Contents\n",
    "<ul>\n",
    "<li><a href=\"#intro\">Introduction</a></li>\n",
    "<li><a href=\"#wrangling\">Data Wrangling</a></li>\n",
    "<li><a href=\"#eda\">Exploratory Data Analysis</a></li>\n",
    "<li><a href=\"#conclusions\">Conclusions</a></li>\n",
    "</ul>"
   ]
  },
  {
   "cell_type": "markdown",
   "metadata": {},
   "source": [
    "<a id='intro'></a>\n",
    "## Introduction\n",
    "\n",
    "> In this Analysis of Gapminder data, I will compare different countries and different regions of the world around variables like population, median-age, life expectancy and income in 2015(the last year of available data). I will also look at the distribution of some of this variables among the selected group of countries again in 2015. In addition, and with focus on top 10 countries based on HDI index in 2011, I will take a specific look at the efficiency of the health system in them based on their both governmental and total health spending from 1995 to 2010.\n",
    ">\n",
    "These are the main questions that I am trying to answer in this project:\n",
    "*\tHow is the distribution of the 'Population', 'Median Age', 'Life Expectancy' and 'Income' over World Countries in 2015? \n",
    "*   What is the state of different regions of the world based on 'Median Age', 'Life Expectency',  'Income' and 'HDI'?\n",
    "*\tWhat is the trend of health expenditure from 1995 to 2010 for top countries in 2011 HDI index? Is there any significant difference with respect to health expenditure among these countries?"
   ]
  },
  {
   "cell_type": "code",
   "execution_count": 786,
   "metadata": {
    "collapsed": true
   },
   "outputs": [],
   "source": [
    "# Use this cell to set up import statements for all of the packages that I\n",
    "#   plan to use.\n",
    "import numpy as np\n",
    "import pandas as pd\n",
    "import matplotlib.pyplot as plt\n",
    "import seaborn as sns\n",
    "%matplotlib inline"
   ]
  },
  {
   "cell_type": "markdown",
   "metadata": {},
   "source": [
    "<a id='wrangling'></a>\n",
    "## Data Wrangling\n",
    "\n",
    "> In this section I'll download the required data sets from Gapminder website. Since the format of this data sets are in **xlsx**, I used Excel spreadsheet to export each table as a csv file. Then I will build Pandas DataFrames based on each csv file. Finally, I will reshape and join 'Population', 'Median Age', 'Income', 'Life Expectancy' and 'HDI' into one inclusive DataFrame. I, Also will add a column to this DataFrame which includes the Gegraphical region that each country belongs to. I will use this DataFrame to answer my first two questions. \n",
    "For the third question, I will use a separate DataFrames for 'Government expenditure on health per capita' and 'Total expenditure on health per capita'\n",
    "\n",
    "### General Properties\n",
    "> The data is for the following fields:\n",
    "* **Population**\n",
    "* **Median Age**: Age that divides a population into two numerically equal groups\n",
    "* **Income**: Gross Domestic Product per capita\n",
    "* **Life Expectancy**: Average time a population is expected to live\n",
    "* **HDI**: Human Development Index which is a summary measure of Education + Income + Life Expectancy\n",
    "* **Government expenditure on health per capita**: The average health expenditure per person that has been paid by government entities expressed in international dollar\n",
    "* **Total expenditure on health per capita**: The average health expenditure per person  expressed in international dollar"
   ]
  },
  {
   "cell_type": "markdown",
   "metadata": {},
   "source": [
    "> Each of the csv files is loaded into a Pandas DataFrame"
   ]
  },
  {
   "cell_type": "code",
   "execution_count": 787,
   "metadata": {
    "collapsed": false
   },
   "outputs": [
    {
     "data": {
      "text/html": [
       "<div>\n",
       "<table border=\"1\" class=\"dataframe\">\n",
       "  <thead>\n",
       "    <tr style=\"text-align: right;\">\n",
       "      <th></th>\n",
       "      <th>Total population</th>\n",
       "      <th>1800</th>\n",
       "      <th>1810</th>\n",
       "      <th>1820</th>\n",
       "      <th>1830</th>\n",
       "      <th>1840</th>\n",
       "      <th>1850</th>\n",
       "      <th>1860</th>\n",
       "      <th>1870</th>\n",
       "      <th>1880</th>\n",
       "      <th>...</th>\n",
       "      <th>2006</th>\n",
       "      <th>2007</th>\n",
       "      <th>2008</th>\n",
       "      <th>2009</th>\n",
       "      <th>2010</th>\n",
       "      <th>2011</th>\n",
       "      <th>2012</th>\n",
       "      <th>2013</th>\n",
       "      <th>2014</th>\n",
       "      <th>2015</th>\n",
       "    </tr>\n",
       "  </thead>\n",
       "  <tbody>\n",
       "    <tr>\n",
       "      <th>0</th>\n",
       "      <td>Abkhazia</td>\n",
       "      <td>NaN</td>\n",
       "      <td>NaN</td>\n",
       "      <td>NaN</td>\n",
       "      <td>NaN</td>\n",
       "      <td>NaN</td>\n",
       "      <td>NaN</td>\n",
       "      <td>NaN</td>\n",
       "      <td>NaN</td>\n",
       "      <td>NaN</td>\n",
       "      <td>...</td>\n",
       "      <td>NaN</td>\n",
       "      <td>NaN</td>\n",
       "      <td>NaN</td>\n",
       "      <td>NaN</td>\n",
       "      <td>NaN</td>\n",
       "      <td>NaN</td>\n",
       "      <td>NaN</td>\n",
       "      <td>NaN</td>\n",
       "      <td>NaN</td>\n",
       "      <td>NaN</td>\n",
       "    </tr>\n",
       "    <tr>\n",
       "      <th>1</th>\n",
       "      <td>Afghanistan</td>\n",
       "      <td>3280000</td>\n",
       "      <td>3280000</td>\n",
       "      <td>3323519</td>\n",
       "      <td>3448982</td>\n",
       "      <td>3625022</td>\n",
       "      <td>3810047</td>\n",
       "      <td>3973968</td>\n",
       "      <td>4169690</td>\n",
       "      <td>4419695</td>\n",
       "      <td>...</td>\n",
       "      <td>25183615</td>\n",
       "      <td>25877544</td>\n",
       "      <td>26528741</td>\n",
       "      <td>27207291</td>\n",
       "      <td>27962207</td>\n",
       "      <td>28809167</td>\n",
       "      <td>29726803</td>\n",
       "      <td>30682500</td>\n",
       "      <td>31627506</td>\n",
       "      <td>32526562</td>\n",
       "    </tr>\n",
       "  </tbody>\n",
       "</table>\n",
       "<p>2 rows × 82 columns</p>\n",
       "</div>"
      ],
      "text/plain": [
       "  Total population     1800     1810     1820     1830     1840     1850  \\\n",
       "0         Abkhazia      NaN      NaN      NaN      NaN      NaN      NaN   \n",
       "1      Afghanistan  3280000  3280000  3323519  3448982  3625022  3810047   \n",
       "\n",
       "      1860     1870     1880    ...         2006      2007      2008  \\\n",
       "0      NaN      NaN      NaN    ...          NaN       NaN       NaN   \n",
       "1  3973968  4169690  4419695    ...     25183615  25877544  26528741   \n",
       "\n",
       "       2009      2010      2011      2012      2013      2014      2015  \n",
       "0       NaN       NaN       NaN       NaN       NaN       NaN       NaN  \n",
       "1  27207291  27962207  28809167  29726803  30682500  31627506  32526562  \n",
       "\n",
       "[2 rows x 82 columns]"
      ]
     },
     "execution_count": 787,
     "metadata": {},
     "output_type": "execute_result"
    }
   ],
   "source": [
    "population_df = pd.read_csv(gap_population_addr)\n",
    "population_df.head(2)"
   ]
  },
  {
   "cell_type": "code",
   "execution_count": 788,
   "metadata": {
    "collapsed": false
   },
   "outputs": [
    {
     "data": {
      "text/html": [
       "<div>\n",
       "<table border=\"1\" class=\"dataframe\">\n",
       "  <thead>\n",
       "    <tr style=\"text-align: right;\">\n",
       "      <th></th>\n",
       "      <th>Median age</th>\n",
       "      <th>1950</th>\n",
       "      <th>1955</th>\n",
       "      <th>1960</th>\n",
       "      <th>1965</th>\n",
       "      <th>1970</th>\n",
       "      <th>1975</th>\n",
       "      <th>1980</th>\n",
       "      <th>1985</th>\n",
       "      <th>1990</th>\n",
       "      <th>...</th>\n",
       "      <th>2010</th>\n",
       "      <th>2015</th>\n",
       "      <th>2020</th>\n",
       "      <th>2025</th>\n",
       "      <th>2030</th>\n",
       "      <th>2035</th>\n",
       "      <th>2040</th>\n",
       "      <th>2045</th>\n",
       "      <th>2050</th>\n",
       "      <th>Unnamed: 22</th>\n",
       "    </tr>\n",
       "  </thead>\n",
       "  <tbody>\n",
       "    <tr>\n",
       "      <th>0</th>\n",
       "      <td>Afghanistan</td>\n",
       "      <td>18.597</td>\n",
       "      <td>18.462</td>\n",
       "      <td>18.311</td>\n",
       "      <td>18.193</td>\n",
       "      <td>17.994</td>\n",
       "      <td>17.648</td>\n",
       "      <td>17.357</td>\n",
       "      <td>17.091</td>\n",
       "      <td>16.845</td>\n",
       "      <td>...</td>\n",
       "      <td>16.868</td>\n",
       "      <td>17.326</td>\n",
       "      <td>17.810</td>\n",
       "      <td>18.319</td>\n",
       "      <td>18.936</td>\n",
       "      <td>19.775</td>\n",
       "      <td>20.918</td>\n",
       "      <td>22.196</td>\n",
       "      <td>23.522</td>\n",
       "      <td>NaN</td>\n",
       "    </tr>\n",
       "    <tr>\n",
       "      <th>1</th>\n",
       "      <td>AFRICA</td>\n",
       "      <td>19.173</td>\n",
       "      <td>18.862</td>\n",
       "      <td>18.434</td>\n",
       "      <td>18.020</td>\n",
       "      <td>17.690</td>\n",
       "      <td>17.524</td>\n",
       "      <td>17.505</td>\n",
       "      <td>17.443</td>\n",
       "      <td>17.541</td>\n",
       "      <td>...</td>\n",
       "      <td>19.676</td>\n",
       "      <td>20.401</td>\n",
       "      <td>21.233</td>\n",
       "      <td>22.245</td>\n",
       "      <td>23.381</td>\n",
       "      <td>24.593</td>\n",
       "      <td>25.851</td>\n",
       "      <td>27.153</td>\n",
       "      <td>28.492</td>\n",
       "      <td>NaN</td>\n",
       "    </tr>\n",
       "  </tbody>\n",
       "</table>\n",
       "<p>2 rows × 23 columns</p>\n",
       "</div>"
      ],
      "text/plain": [
       "    Median age    1950    1955    1960    1965    1970    1975    1980  \\\n",
       "0  Afghanistan  18.597  18.462  18.311  18.193  17.994  17.648  17.357   \n",
       "1       AFRICA  19.173  18.862  18.434  18.020  17.690  17.524  17.505   \n",
       "\n",
       "     1985    1990     ...         2010    2015    2020    2025    2030  \\\n",
       "0  17.091  16.845     ...       16.868  17.326  17.810  18.319  18.936   \n",
       "1  17.443  17.541     ...       19.676  20.401  21.233  22.245  23.381   \n",
       "\n",
       "     2035    2040    2045    2050  Unnamed: 22  \n",
       "0  19.775  20.918  22.196  23.522          NaN  \n",
       "1  24.593  25.851  27.153  28.492          NaN  \n",
       "\n",
       "[2 rows x 23 columns]"
      ]
     },
     "execution_count": 788,
     "metadata": {},
     "output_type": "execute_result"
    }
   ],
   "source": [
    "median_age_df = pd.read_csv(gap_median_age_addr)\n",
    "median_age_df.head(2)"
   ]
  },
  {
   "cell_type": "code",
   "execution_count": 789,
   "metadata": {
    "collapsed": false
   },
   "outputs": [
    {
     "data": {
      "text/html": [
       "<div>\n",
       "<table border=\"1\" class=\"dataframe\">\n",
       "  <thead>\n",
       "    <tr style=\"text-align: right;\">\n",
       "      <th></th>\n",
       "      <th>Life expectancy</th>\n",
       "      <th>1800</th>\n",
       "      <th>1801</th>\n",
       "      <th>1802</th>\n",
       "      <th>1803</th>\n",
       "      <th>1804</th>\n",
       "      <th>1805</th>\n",
       "      <th>1806</th>\n",
       "      <th>1807</th>\n",
       "      <th>1808</th>\n",
       "      <th>...</th>\n",
       "      <th>2007</th>\n",
       "      <th>2008</th>\n",
       "      <th>2009</th>\n",
       "      <th>2010</th>\n",
       "      <th>2011</th>\n",
       "      <th>2012</th>\n",
       "      <th>2013</th>\n",
       "      <th>2014</th>\n",
       "      <th>2015</th>\n",
       "      <th>2016</th>\n",
       "    </tr>\n",
       "  </thead>\n",
       "  <tbody>\n",
       "    <tr>\n",
       "      <th>0</th>\n",
       "      <td>Abkhazia</td>\n",
       "      <td>NaN</td>\n",
       "      <td>NaN</td>\n",
       "      <td>NaN</td>\n",
       "      <td>NaN</td>\n",
       "      <td>NaN</td>\n",
       "      <td>NaN</td>\n",
       "      <td>NaN</td>\n",
       "      <td>NaN</td>\n",
       "      <td>NaN</td>\n",
       "      <td>...</td>\n",
       "      <td>NaN</td>\n",
       "      <td>NaN</td>\n",
       "      <td>NaN</td>\n",
       "      <td>NaN</td>\n",
       "      <td>NaN</td>\n",
       "      <td>NaN</td>\n",
       "      <td>NaN</td>\n",
       "      <td>NaN</td>\n",
       "      <td>NaN</td>\n",
       "      <td>NaN</td>\n",
       "    </tr>\n",
       "    <tr>\n",
       "      <th>1</th>\n",
       "      <td>Afghanistan</td>\n",
       "      <td>28.21</td>\n",
       "      <td>28.2</td>\n",
       "      <td>28.19</td>\n",
       "      <td>28.18</td>\n",
       "      <td>28.17</td>\n",
       "      <td>28.16</td>\n",
       "      <td>28.15</td>\n",
       "      <td>28.14</td>\n",
       "      <td>28.13</td>\n",
       "      <td>...</td>\n",
       "      <td>52.4</td>\n",
       "      <td>52.8</td>\n",
       "      <td>53.3</td>\n",
       "      <td>53.6</td>\n",
       "      <td>54.0</td>\n",
       "      <td>54.4</td>\n",
       "      <td>54.8</td>\n",
       "      <td>54.9</td>\n",
       "      <td>53.8</td>\n",
       "      <td>52.72</td>\n",
       "    </tr>\n",
       "  </tbody>\n",
       "</table>\n",
       "<p>2 rows × 218 columns</p>\n",
       "</div>"
      ],
      "text/plain": [
       "  Life expectancy   1800  1801   1802   1803   1804   1805   1806   1807  \\\n",
       "0        Abkhazia    NaN   NaN    NaN    NaN    NaN    NaN    NaN    NaN   \n",
       "1     Afghanistan  28.21  28.2  28.19  28.18  28.17  28.16  28.15  28.14   \n",
       "\n",
       "    1808  ...    2007  2008  2009  2010  2011  2012  2013  2014  2015   2016  \n",
       "0    NaN  ...     NaN   NaN   NaN   NaN   NaN   NaN   NaN   NaN   NaN    NaN  \n",
       "1  28.13  ...    52.4  52.8  53.3  53.6  54.0  54.4  54.8  54.9  53.8  52.72  \n",
       "\n",
       "[2 rows x 218 columns]"
      ]
     },
     "execution_count": 789,
     "metadata": {},
     "output_type": "execute_result"
    }
   ],
   "source": [
    "life_expectancy_df = pd.read_csv(gap_life_expectancy_addr)\n",
    "life_expectancy_df.head(2)"
   ]
  },
  {
   "cell_type": "code",
   "execution_count": 790,
   "metadata": {
    "collapsed": false
   },
   "outputs": [
    {
     "data": {
      "text/html": [
       "<div>\n",
       "<table border=\"1\" class=\"dataframe\">\n",
       "  <thead>\n",
       "    <tr style=\"text-align: right;\">\n",
       "      <th></th>\n",
       "      <th>GDP per capita</th>\n",
       "      <th>1800</th>\n",
       "      <th>1801</th>\n",
       "      <th>1802</th>\n",
       "      <th>1803</th>\n",
       "      <th>1804</th>\n",
       "      <th>1805</th>\n",
       "      <th>1806</th>\n",
       "      <th>1807</th>\n",
       "      <th>1808</th>\n",
       "      <th>...</th>\n",
       "      <th>2006</th>\n",
       "      <th>2007</th>\n",
       "      <th>2008</th>\n",
       "      <th>2009</th>\n",
       "      <th>2010</th>\n",
       "      <th>2011</th>\n",
       "      <th>2012</th>\n",
       "      <th>2013</th>\n",
       "      <th>2014</th>\n",
       "      <th>2015</th>\n",
       "    </tr>\n",
       "  </thead>\n",
       "  <tbody>\n",
       "    <tr>\n",
       "      <th>0</th>\n",
       "      <td>Abkhazia</td>\n",
       "      <td>NaN</td>\n",
       "      <td>NaN</td>\n",
       "      <td>NaN</td>\n",
       "      <td>NaN</td>\n",
       "      <td>NaN</td>\n",
       "      <td>NaN</td>\n",
       "      <td>NaN</td>\n",
       "      <td>NaN</td>\n",
       "      <td>NaN</td>\n",
       "      <td>...</td>\n",
       "      <td>NaN</td>\n",
       "      <td>NaN</td>\n",
       "      <td>NaN</td>\n",
       "      <td>NaN</td>\n",
       "      <td>NaN</td>\n",
       "      <td>NaN</td>\n",
       "      <td>NaN</td>\n",
       "      <td>NaN</td>\n",
       "      <td>NaN</td>\n",
       "      <td>NaN</td>\n",
       "    </tr>\n",
       "    <tr>\n",
       "      <th>1</th>\n",
       "      <td>Afghanistan</td>\n",
       "      <td>603.0</td>\n",
       "      <td>603.0</td>\n",
       "      <td>603.0</td>\n",
       "      <td>603.0</td>\n",
       "      <td>603.0</td>\n",
       "      <td>603.0</td>\n",
       "      <td>603.0</td>\n",
       "      <td>603.0</td>\n",
       "      <td>603.0</td>\n",
       "      <td>...</td>\n",
       "      <td>1173.0</td>\n",
       "      <td>1298.0</td>\n",
       "      <td>1311.0</td>\n",
       "      <td>1548.0</td>\n",
       "      <td>1637.0</td>\n",
       "      <td>1695.0</td>\n",
       "      <td>1893.0</td>\n",
       "      <td>1884.0</td>\n",
       "      <td>1877.0</td>\n",
       "      <td>1925.0</td>\n",
       "    </tr>\n",
       "  </tbody>\n",
       "</table>\n",
       "<p>2 rows × 217 columns</p>\n",
       "</div>"
      ],
      "text/plain": [
       "  GDP per capita   1800   1801   1802   1803   1804   1805   1806   1807  \\\n",
       "0       Abkhazia    NaN    NaN    NaN    NaN    NaN    NaN    NaN    NaN   \n",
       "1    Afghanistan  603.0  603.0  603.0  603.0  603.0  603.0  603.0  603.0   \n",
       "\n",
       "    1808   ...      2006    2007    2008    2009    2010    2011    2012  \\\n",
       "0    NaN   ...       NaN     NaN     NaN     NaN     NaN     NaN     NaN   \n",
       "1  603.0   ...    1173.0  1298.0  1311.0  1548.0  1637.0  1695.0  1893.0   \n",
       "\n",
       "     2013    2014    2015  \n",
       "0     NaN     NaN     NaN  \n",
       "1  1884.0  1877.0  1925.0  \n",
       "\n",
       "[2 rows x 217 columns]"
      ]
     },
     "execution_count": 790,
     "metadata": {},
     "output_type": "execute_result"
    }
   ],
   "source": [
    "income_df = pd.read_csv(gap_income_addr)\n",
    "income_df.head(2)"
   ]
  },
  {
   "cell_type": "code",
   "execution_count": 791,
   "metadata": {
    "collapsed": false
   },
   "outputs": [
    {
     "data": {
      "text/html": [
       "<div>\n",
       "<table border=\"1\" class=\"dataframe\">\n",
       "  <thead>\n",
       "    <tr style=\"text-align: right;\">\n",
       "      <th></th>\n",
       "      <th>HDI</th>\n",
       "      <th>1980</th>\n",
       "      <th>1990</th>\n",
       "      <th>2000</th>\n",
       "      <th>2005</th>\n",
       "      <th>2006</th>\n",
       "      <th>2007</th>\n",
       "      <th>2008</th>\n",
       "      <th>2009</th>\n",
       "      <th>2011</th>\n",
       "    </tr>\n",
       "  </thead>\n",
       "  <tbody>\n",
       "    <tr>\n",
       "      <th>0</th>\n",
       "      <td>Abkhazia</td>\n",
       "      <td>NaN</td>\n",
       "      <td>NaN</td>\n",
       "      <td>NaN</td>\n",
       "      <td>NaN</td>\n",
       "      <td>NaN</td>\n",
       "      <td>NaN</td>\n",
       "      <td>NaN</td>\n",
       "      <td>NaN</td>\n",
       "      <td>NaN</td>\n",
       "    </tr>\n",
       "    <tr>\n",
       "      <th>1</th>\n",
       "      <td>Afghanistan</td>\n",
       "      <td>0.198</td>\n",
       "      <td>0.246</td>\n",
       "      <td>0.23</td>\n",
       "      <td>0.34</td>\n",
       "      <td>0.354</td>\n",
       "      <td>0.363</td>\n",
       "      <td>0.37</td>\n",
       "      <td>0.387</td>\n",
       "      <td>0.398</td>\n",
       "    </tr>\n",
       "  </tbody>\n",
       "</table>\n",
       "</div>"
      ],
      "text/plain": [
       "           HDI   1980   1990  2000  2005   2006   2007  2008   2009   2011\n",
       "0     Abkhazia    NaN    NaN   NaN   NaN    NaN    NaN   NaN    NaN    NaN\n",
       "1  Afghanistan  0.198  0.246  0.23  0.34  0.354  0.363  0.37  0.387  0.398"
      ]
     },
     "execution_count": 791,
     "metadata": {},
     "output_type": "execute_result"
    }
   ],
   "source": [
    "hdi_df = pd.read_csv(gap_hdi_addr)\n",
    "hdi_df.head(2)"
   ]
  },
  {
   "cell_type": "code",
   "execution_count": 792,
   "metadata": {
    "collapsed": false
   },
   "outputs": [
    {
     "data": {
      "text/html": [
       "<div>\n",
       "<table border=\"1\" class=\"dataframe\">\n",
       "  <thead>\n",
       "    <tr style=\"text-align: right;\">\n",
       "      <th></th>\n",
       "      <th>Per capita government expenditure on health (PPP int. $)</th>\n",
       "      <th>1995</th>\n",
       "      <th>1996</th>\n",
       "      <th>1997</th>\n",
       "      <th>1998</th>\n",
       "      <th>1999</th>\n",
       "      <th>2000</th>\n",
       "      <th>2001</th>\n",
       "      <th>2002</th>\n",
       "      <th>2003</th>\n",
       "      <th>2004</th>\n",
       "      <th>2005</th>\n",
       "      <th>2006</th>\n",
       "      <th>2007</th>\n",
       "      <th>2008</th>\n",
       "      <th>2009</th>\n",
       "      <th>2010</th>\n",
       "    </tr>\n",
       "  </thead>\n",
       "  <tbody>\n",
       "    <tr>\n",
       "      <th>0</th>\n",
       "      <td>Abkhazia</td>\n",
       "      <td>NaN</td>\n",
       "      <td>NaN</td>\n",
       "      <td>NaN</td>\n",
       "      <td>NaN</td>\n",
       "      <td>NaN</td>\n",
       "      <td>NaN</td>\n",
       "      <td>NaN</td>\n",
       "      <td>NaN</td>\n",
       "      <td>NaN</td>\n",
       "      <td>NaN</td>\n",
       "      <td>NaN</td>\n",
       "      <td>NaN</td>\n",
       "      <td>NaN</td>\n",
       "      <td>NaN</td>\n",
       "      <td>NaN</td>\n",
       "      <td>NaN</td>\n",
       "    </tr>\n",
       "    <tr>\n",
       "      <th>1</th>\n",
       "      <td>Afghanistan</td>\n",
       "      <td>NaN</td>\n",
       "      <td>NaN</td>\n",
       "      <td>NaN</td>\n",
       "      <td>NaN</td>\n",
       "      <td>NaN</td>\n",
       "      <td>NaN</td>\n",
       "      <td>NaN</td>\n",
       "      <td>1.242622</td>\n",
       "      <td>2.026442</td>\n",
       "      <td>2.509185</td>\n",
       "      <td>4.109661</td>\n",
       "      <td>4.272342</td>\n",
       "      <td>4.908018</td>\n",
       "      <td>4.503357</td>\n",
       "      <td>5.28359</td>\n",
       "      <td>5.182912</td>\n",
       "    </tr>\n",
       "  </tbody>\n",
       "</table>\n",
       "</div>"
      ],
      "text/plain": [
       "  Per capita government expenditure on health (PPP int. $)  1995  1996  1997  \\\n",
       "0                                           Abkhazia         NaN   NaN   NaN   \n",
       "1                                        Afghanistan         NaN   NaN   NaN   \n",
       "\n",
       "   1998  1999  2000  2001      2002      2003      2004      2005      2006  \\\n",
       "0   NaN   NaN   NaN   NaN       NaN       NaN       NaN       NaN       NaN   \n",
       "1   NaN   NaN   NaN   NaN  1.242622  2.026442  2.509185  4.109661  4.272342   \n",
       "\n",
       "       2007      2008     2009      2010  \n",
       "0       NaN       NaN      NaN       NaN  \n",
       "1  4.908018  4.503357  5.28359  5.182912  "
      ]
     },
     "execution_count": 792,
     "metadata": {},
     "output_type": "execute_result"
    }
   ],
   "source": [
    "gov_health_exp_df = pd.read_csv(gap_gov_health_exp_addr)\n",
    "gov_health_exp_df.head(2)"
   ]
  },
  {
   "cell_type": "code",
   "execution_count": 793,
   "metadata": {
    "collapsed": false
   },
   "outputs": [
    {
     "data": {
      "text/html": [
       "<div>\n",
       "<table border=\"1\" class=\"dataframe\">\n",
       "  <thead>\n",
       "    <tr style=\"text-align: right;\">\n",
       "      <th></th>\n",
       "      <th>Per capita total expenditure on health (PPP int. $)</th>\n",
       "      <th>1995</th>\n",
       "      <th>1996</th>\n",
       "      <th>1997</th>\n",
       "      <th>1998</th>\n",
       "      <th>1999</th>\n",
       "      <th>2000</th>\n",
       "      <th>2001</th>\n",
       "      <th>2002</th>\n",
       "      <th>2003</th>\n",
       "      <th>2004</th>\n",
       "      <th>2005</th>\n",
       "      <th>2006</th>\n",
       "      <th>2007</th>\n",
       "      <th>2008</th>\n",
       "      <th>2009</th>\n",
       "      <th>2010</th>\n",
       "    </tr>\n",
       "  </thead>\n",
       "  <tbody>\n",
       "    <tr>\n",
       "      <th>0</th>\n",
       "      <td>Abkhazia</td>\n",
       "      <td>NaN</td>\n",
       "      <td>NaN</td>\n",
       "      <td>NaN</td>\n",
       "      <td>NaN</td>\n",
       "      <td>NaN</td>\n",
       "      <td>NaN</td>\n",
       "      <td>NaN</td>\n",
       "      <td>NaN</td>\n",
       "      <td>NaN</td>\n",
       "      <td>NaN</td>\n",
       "      <td>NaN</td>\n",
       "      <td>NaN</td>\n",
       "      <td>NaN</td>\n",
       "      <td>NaN</td>\n",
       "      <td>NaN</td>\n",
       "      <td>NaN</td>\n",
       "    </tr>\n",
       "    <tr>\n",
       "      <th>1</th>\n",
       "      <td>Afghanistan</td>\n",
       "      <td>NaN</td>\n",
       "      <td>NaN</td>\n",
       "      <td>NaN</td>\n",
       "      <td>NaN</td>\n",
       "      <td>NaN</td>\n",
       "      <td>NaN</td>\n",
       "      <td>NaN</td>\n",
       "      <td>22.114557</td>\n",
       "      <td>29.684998</td>\n",
       "      <td>32.124328</td>\n",
       "      <td>35.577605</td>\n",
       "      <td>36.167636</td>\n",
       "      <td>40.358763</td>\n",
       "      <td>38.255108</td>\n",
       "      <td>45.565772</td>\n",
       "      <td>44.465952</td>\n",
       "    </tr>\n",
       "  </tbody>\n",
       "</table>\n",
       "</div>"
      ],
      "text/plain": [
       "  Per capita total expenditure on health (PPP int. $)  1995  1996  1997  1998  \\\n",
       "0                                           Abkhazia    NaN   NaN   NaN   NaN   \n",
       "1                                        Afghanistan    NaN   NaN   NaN   NaN   \n",
       "\n",
       "   1999  2000  2001       2002       2003       2004       2005       2006  \\\n",
       "0   NaN   NaN   NaN        NaN        NaN        NaN        NaN        NaN   \n",
       "1   NaN   NaN   NaN  22.114557  29.684998  32.124328  35.577605  36.167636   \n",
       "\n",
       "        2007       2008       2009       2010  \n",
       "0        NaN        NaN        NaN        NaN  \n",
       "1  40.358763  38.255108  45.565772  44.465952  "
      ]
     },
     "execution_count": 793,
     "metadata": {},
     "output_type": "execute_result"
    }
   ],
   "source": [
    "total_health_exp_df = pd.read_csv(gap_total_health_exp_addr)\n",
    "total_health_exp_df.head(2)"
   ]
  },
  {
   "cell_type": "markdown",
   "metadata": {},
   "source": [
    "### Data Reshaping\n",
    "#### One DataFrame for Population, World_Regions, Median_Age, Life_Expectancy,  Income,  HDI \n",
    "> I extract the data for 2015 from previously built Population, Median_Age, Life_Expectancy and Income DataFrames into new ones. Then I will merge these new 2015 Dataframes into one DataFrame."
   ]
  },
  {
   "cell_type": "code",
   "execution_count": 794,
   "metadata": {
    "collapsed": false
   },
   "outputs": [
    {
     "data": {
      "text/html": [
       "<div>\n",
       "<table border=\"1\" class=\"dataframe\">\n",
       "  <thead>\n",
       "    <tr style=\"text-align: right;\">\n",
       "      <th></th>\n",
       "      <th>Country</th>\n",
       "      <th>Population</th>\n",
       "    </tr>\n",
       "  </thead>\n",
       "  <tbody>\n",
       "    <tr>\n",
       "      <th>0</th>\n",
       "      <td>Abkhazia</td>\n",
       "      <td>NaN</td>\n",
       "    </tr>\n",
       "    <tr>\n",
       "      <th>1</th>\n",
       "      <td>Afghanistan</td>\n",
       "      <td>32526562</td>\n",
       "    </tr>\n",
       "  </tbody>\n",
       "</table>\n",
       "</div>"
      ],
      "text/plain": [
       "       Country Population\n",
       "0     Abkhazia        NaN\n",
       "1  Afghanistan   32526562"
      ]
     },
     "execution_count": 794,
     "metadata": {},
     "output_type": "execute_result"
    }
   ],
   "source": [
    "population_2015_df = pd.DataFrame({'Country': population_df['Total population'],'Population': population_df['2015']})\n",
    "population_2015_df.head(2)"
   ]
  },
  {
   "cell_type": "code",
   "execution_count": 795,
   "metadata": {
    "collapsed": false
   },
   "outputs": [
    {
     "data": {
      "text/html": [
       "<div>\n",
       "<table border=\"1\" class=\"dataframe\">\n",
       "  <thead>\n",
       "    <tr style=\"text-align: right;\">\n",
       "      <th></th>\n",
       "      <th>Country</th>\n",
       "      <th>MedianAge</th>\n",
       "    </tr>\n",
       "  </thead>\n",
       "  <tbody>\n",
       "    <tr>\n",
       "      <th>0</th>\n",
       "      <td>Afghanistan</td>\n",
       "      <td>17.326</td>\n",
       "    </tr>\n",
       "    <tr>\n",
       "      <th>1</th>\n",
       "      <td>AFRICA</td>\n",
       "      <td>20.401</td>\n",
       "    </tr>\n",
       "  </tbody>\n",
       "</table>\n",
       "</div>"
      ],
      "text/plain": [
       "       Country  MedianAge\n",
       "0  Afghanistan     17.326\n",
       "1       AFRICA     20.401"
      ]
     },
     "execution_count": 795,
     "metadata": {},
     "output_type": "execute_result"
    }
   ],
   "source": [
    "median_age_2015_df = pd.DataFrame({'Country': median_age_df['Median age'],'MedianAge': median_age_df['2015']})\n",
    "median_age_2015_df.head(2)"
   ]
  },
  {
   "cell_type": "code",
   "execution_count": 796,
   "metadata": {
    "collapsed": false
   },
   "outputs": [
    {
     "data": {
      "text/html": [
       "<div>\n",
       "<table border=\"1\" class=\"dataframe\">\n",
       "  <thead>\n",
       "    <tr style=\"text-align: right;\">\n",
       "      <th></th>\n",
       "      <th>Country</th>\n",
       "      <th>LifeExpect</th>\n",
       "    </tr>\n",
       "  </thead>\n",
       "  <tbody>\n",
       "    <tr>\n",
       "      <th>0</th>\n",
       "      <td>Abkhazia</td>\n",
       "      <td>NaN</td>\n",
       "    </tr>\n",
       "    <tr>\n",
       "      <th>1</th>\n",
       "      <td>Afghanistan</td>\n",
       "      <td>53.8</td>\n",
       "    </tr>\n",
       "  </tbody>\n",
       "</table>\n",
       "</div>"
      ],
      "text/plain": [
       "       Country  LifeExpect\n",
       "0     Abkhazia         NaN\n",
       "1  Afghanistan        53.8"
      ]
     },
     "execution_count": 796,
     "metadata": {},
     "output_type": "execute_result"
    }
   ],
   "source": [
    "life_expectancy_2015_df = pd.DataFrame({'Country': life_expectancy_df['Life expectancy'],'LifeExpect': life_expectancy_df['2015']})\n",
    "life_expectancy_2015_df.head(2)"
   ]
  },
  {
   "cell_type": "code",
   "execution_count": 797,
   "metadata": {
    "collapsed": false
   },
   "outputs": [
    {
     "data": {
      "text/html": [
       "<div>\n",
       "<table border=\"1\" class=\"dataframe\">\n",
       "  <thead>\n",
       "    <tr style=\"text-align: right;\">\n",
       "      <th></th>\n",
       "      <th>Country</th>\n",
       "      <th>Income</th>\n",
       "    </tr>\n",
       "  </thead>\n",
       "  <tbody>\n",
       "    <tr>\n",
       "      <th>0</th>\n",
       "      <td>Abkhazia</td>\n",
       "      <td>NaN</td>\n",
       "    </tr>\n",
       "    <tr>\n",
       "      <th>1</th>\n",
       "      <td>Afghanistan</td>\n",
       "      <td>1925.0</td>\n",
       "    </tr>\n",
       "  </tbody>\n",
       "</table>\n",
       "</div>"
      ],
      "text/plain": [
       "       Country  Income\n",
       "0     Abkhazia     NaN\n",
       "1  Afghanistan  1925.0"
      ]
     },
     "execution_count": 797,
     "metadata": {},
     "output_type": "execute_result"
    }
   ],
   "source": [
    "income_2015_df = pd.DataFrame({'Country': income_df['GDP per capita'],'Income': income_df['2015']})\n",
    "income_2015_df.head(2)"
   ]
  },
  {
   "cell_type": "markdown",
   "metadata": {},
   "source": [
    "> The latest available data for Human Development Index (**HDI**) is for 2011. So we will reshape HDI data into new DataFrame just as previous datasets but for 2011 data."
   ]
  },
  {
   "cell_type": "code",
   "execution_count": 798,
   "metadata": {
    "collapsed": false
   },
   "outputs": [
    {
     "data": {
      "text/html": [
       "<div>\n",
       "<table border=\"1\" class=\"dataframe\">\n",
       "  <thead>\n",
       "    <tr style=\"text-align: right;\">\n",
       "      <th></th>\n",
       "      <th>Country</th>\n",
       "      <th>HDI</th>\n",
       "    </tr>\n",
       "  </thead>\n",
       "  <tbody>\n",
       "    <tr>\n",
       "      <th>0</th>\n",
       "      <td>Abkhazia</td>\n",
       "      <td>NaN</td>\n",
       "    </tr>\n",
       "    <tr>\n",
       "      <th>1</th>\n",
       "      <td>Afghanistan</td>\n",
       "      <td>0.398</td>\n",
       "    </tr>\n",
       "  </tbody>\n",
       "</table>\n",
       "</div>"
      ],
      "text/plain": [
       "       Country    HDI\n",
       "0     Abkhazia    NaN\n",
       "1  Afghanistan  0.398"
      ]
     },
     "execution_count": 798,
     "metadata": {},
     "output_type": "execute_result"
    }
   ],
   "source": [
    "hdi_2011_df = pd.DataFrame({'Country':hdi_df['HDI'], 'HDI':hdi_df['2011']})\n",
    "hdi_2011_df.head(2)"
   ]
  },
  {
   "cell_type": "markdown",
   "metadata": {},
   "source": [
    "> The other data set is Country_Regions.\n",
    "> region_df is built based on following dataset: www.statvision.com/webinars/countries%20of%20the%20world.xls\n",
    "\n",
    "> Since the original regions in this dataset were not completely what I intended, they have been slightly modified. \n",
    "> Here are the final regions:\n",
    "* Asia\n",
    "* China \n",
    "* India\n",
    "* Middle East/North Africa\n",
    "* Sub-Saharan Africa\n",
    "* Eastern Europe/Central Asia\n",
    "* Western Europe\n",
    "* North America\n",
    "* Latin America\n",
    "* Oceania\n",
    "\n",
    "> **China** and **India** are considered as separate regions because of their exceptional population number!"
   ]
  },
  {
   "cell_type": "code",
   "execution_count": 799,
   "metadata": {
    "collapsed": false
   },
   "outputs": [
    {
     "data": {
      "text/html": [
       "<div>\n",
       "<table border=\"1\" class=\"dataframe\">\n",
       "  <thead>\n",
       "    <tr style=\"text-align: right;\">\n",
       "      <th></th>\n",
       "      <th>Country</th>\n",
       "      <th>Region</th>\n",
       "    </tr>\n",
       "  </thead>\n",
       "  <tbody>\n",
       "    <tr>\n",
       "      <th>0</th>\n",
       "      <td>Afghanistan</td>\n",
       "      <td>Asia</td>\n",
       "    </tr>\n",
       "    <tr>\n",
       "      <th>1</th>\n",
       "      <td>Bangladesh</td>\n",
       "      <td>Asia</td>\n",
       "    </tr>\n",
       "    <tr>\n",
       "      <th>2</th>\n",
       "      <td>Bhutan</td>\n",
       "      <td>Asia</td>\n",
       "    </tr>\n",
       "    <tr>\n",
       "      <th>3</th>\n",
       "      <td>Brunei</td>\n",
       "      <td>Asia</td>\n",
       "    </tr>\n",
       "    <tr>\n",
       "      <th>4</th>\n",
       "      <td>Burma</td>\n",
       "      <td>Asia</td>\n",
       "    </tr>\n",
       "  </tbody>\n",
       "</table>\n",
       "</div>"
      ],
      "text/plain": [
       "       Country Region\n",
       "0  Afghanistan   Asia\n",
       "1   Bangladesh   Asia\n",
       "2       Bhutan   Asia\n",
       "3       Brunei   Asia\n",
       "4        Burma   Asia"
      ]
     },
     "execution_count": 799,
     "metadata": {},
     "output_type": "execute_result"
    }
   ],
   "source": [
    "region_df = pd.read_csv(world_regions_addr)\n",
    "region_df.head(5)"
   ]
  },
  {
   "cell_type": "markdown",
   "metadata": {},
   "source": [
    "> Finally, all these separate DataFrames are merged into a new DataFrame: **gapminder_df**"
   ]
  },
  {
   "cell_type": "code",
   "execution_count": 800,
   "metadata": {
    "collapsed": false
   },
   "outputs": [
    {
     "data": {
      "text/html": [
       "<div>\n",
       "<table border=\"1\" class=\"dataframe\">\n",
       "  <thead>\n",
       "    <tr style=\"text-align: right;\">\n",
       "      <th></th>\n",
       "      <th>Country</th>\n",
       "      <th>Population</th>\n",
       "      <th>Region</th>\n",
       "      <th>Income</th>\n",
       "      <th>LifeExpect</th>\n",
       "      <th>MedianAge</th>\n",
       "      <th>HDI</th>\n",
       "    </tr>\n",
       "  </thead>\n",
       "  <tbody>\n",
       "    <tr>\n",
       "      <th>0</th>\n",
       "      <td>Abkhazia</td>\n",
       "      <td>NaN</td>\n",
       "      <td>NaN</td>\n",
       "      <td>NaN</td>\n",
       "      <td>NaN</td>\n",
       "      <td>NaN</td>\n",
       "      <td>NaN</td>\n",
       "    </tr>\n",
       "    <tr>\n",
       "      <th>1</th>\n",
       "      <td>Afghanistan</td>\n",
       "      <td>32526562</td>\n",
       "      <td>Asia</td>\n",
       "      <td>1925.0</td>\n",
       "      <td>53.8</td>\n",
       "      <td>17.326</td>\n",
       "      <td>0.398</td>\n",
       "    </tr>\n",
       "    <tr>\n",
       "      <th>2</th>\n",
       "      <td>Akrotiri and Dhekelia</td>\n",
       "      <td>NaN</td>\n",
       "      <td>NaN</td>\n",
       "      <td>NaN</td>\n",
       "      <td>NaN</td>\n",
       "      <td>NaN</td>\n",
       "      <td>NaN</td>\n",
       "    </tr>\n",
       "    <tr>\n",
       "      <th>3</th>\n",
       "      <td>Albania</td>\n",
       "      <td>2896679</td>\n",
       "      <td>Eastern Europe/Central Asia</td>\n",
       "      <td>10620.0</td>\n",
       "      <td>78.0</td>\n",
       "      <td>31.796</td>\n",
       "      <td>0.739</td>\n",
       "    </tr>\n",
       "    <tr>\n",
       "      <th>4</th>\n",
       "      <td>Algeria</td>\n",
       "      <td>39666519</td>\n",
       "      <td>Middle East/North Africa</td>\n",
       "      <td>13434.0</td>\n",
       "      <td>76.4</td>\n",
       "      <td>28.311</td>\n",
       "      <td>0.698</td>\n",
       "    </tr>\n",
       "  </tbody>\n",
       "</table>\n",
       "</div>"
      ],
      "text/plain": [
       "                 Country Population                       Region   Income  \\\n",
       "0               Abkhazia        NaN                          NaN      NaN   \n",
       "1            Afghanistan   32526562                         Asia   1925.0   \n",
       "2  Akrotiri and Dhekelia        NaN                          NaN      NaN   \n",
       "3                Albania    2896679  Eastern Europe/Central Asia  10620.0   \n",
       "4                Algeria   39666519     Middle East/North Africa  13434.0   \n",
       "\n",
       "   LifeExpect  MedianAge    HDI  \n",
       "0         NaN        NaN    NaN  \n",
       "1        53.8     17.326  0.398  \n",
       "2         NaN        NaN    NaN  \n",
       "3        78.0     31.796  0.739  \n",
       "4        76.4     28.311  0.698  "
      ]
     },
     "execution_count": 800,
     "metadata": {},
     "output_type": "execute_result"
    }
   ],
   "source": [
    "gapminder_df = pd.merge(population_2015_df, region_df, how='left', on='Country')  \n",
    "gapminder_df = pd.merge(gapminder_df, income_2015_df, how='left', on='Country')  \n",
    "gapminder_df = pd.merge(gapminder_df, life_expectancy_2015_df, how='left', on='Country')\n",
    "gapminder_df = pd.merge(gapminder_df, median_age_2015_df, how = 'left', on= 'Country')\n",
    "gapminder_df = pd.merge(gapminder_df, hdi_2011_df, how = 'inner', on = 'Country')\n",
    "gapminder_df.head(5)"
   ]
  },
  {
   "cell_type": "markdown",
   "metadata": {},
   "source": [
    "#### Health Spending DataFrames for top 10 countries in HDI index\n",
    "> Here the name of the country field is changed to 'Country',  and it will be set as the  DataFrame's index."
   ]
  },
  {
   "cell_type": "code",
   "execution_count": 801,
   "metadata": {
    "collapsed": false
   },
   "outputs": [
    {
     "data": {
      "text/html": [
       "<div>\n",
       "<table border=\"1\" class=\"dataframe\">\n",
       "  <thead>\n",
       "    <tr style=\"text-align: right;\">\n",
       "      <th></th>\n",
       "      <th>1995</th>\n",
       "      <th>1996</th>\n",
       "      <th>1997</th>\n",
       "      <th>1998</th>\n",
       "      <th>1999</th>\n",
       "      <th>2000</th>\n",
       "      <th>2001</th>\n",
       "      <th>2002</th>\n",
       "      <th>2003</th>\n",
       "      <th>2004</th>\n",
       "      <th>2005</th>\n",
       "      <th>2006</th>\n",
       "      <th>2007</th>\n",
       "      <th>2008</th>\n",
       "      <th>2009</th>\n",
       "      <th>2010</th>\n",
       "    </tr>\n",
       "    <tr>\n",
       "      <th>Country</th>\n",
       "      <th></th>\n",
       "      <th></th>\n",
       "      <th></th>\n",
       "      <th></th>\n",
       "      <th></th>\n",
       "      <th></th>\n",
       "      <th></th>\n",
       "      <th></th>\n",
       "      <th></th>\n",
       "      <th></th>\n",
       "      <th></th>\n",
       "      <th></th>\n",
       "      <th></th>\n",
       "      <th></th>\n",
       "      <th></th>\n",
       "      <th></th>\n",
       "    </tr>\n",
       "  </thead>\n",
       "  <tbody>\n",
       "    <tr>\n",
       "      <th>Abkhazia</th>\n",
       "      <td>NaN</td>\n",
       "      <td>NaN</td>\n",
       "      <td>NaN</td>\n",
       "      <td>NaN</td>\n",
       "      <td>NaN</td>\n",
       "      <td>NaN</td>\n",
       "      <td>NaN</td>\n",
       "      <td>NaN</td>\n",
       "      <td>NaN</td>\n",
       "      <td>NaN</td>\n",
       "      <td>NaN</td>\n",
       "      <td>NaN</td>\n",
       "      <td>NaN</td>\n",
       "      <td>NaN</td>\n",
       "      <td>NaN</td>\n",
       "      <td>NaN</td>\n",
       "    </tr>\n",
       "    <tr>\n",
       "      <th>Afghanistan</th>\n",
       "      <td>NaN</td>\n",
       "      <td>NaN</td>\n",
       "      <td>NaN</td>\n",
       "      <td>NaN</td>\n",
       "      <td>NaN</td>\n",
       "      <td>NaN</td>\n",
       "      <td>NaN</td>\n",
       "      <td>1.242622</td>\n",
       "      <td>2.026442</td>\n",
       "      <td>2.509185</td>\n",
       "      <td>4.109661</td>\n",
       "      <td>4.272342</td>\n",
       "      <td>4.908018</td>\n",
       "      <td>4.503357</td>\n",
       "      <td>5.28359</td>\n",
       "      <td>5.182912</td>\n",
       "    </tr>\n",
       "  </tbody>\n",
       "</table>\n",
       "</div>"
      ],
      "text/plain": [
       "             1995  1996  1997  1998  1999  2000  2001      2002      2003  \\\n",
       "Country                                                                     \n",
       "Abkhazia      NaN   NaN   NaN   NaN   NaN   NaN   NaN       NaN       NaN   \n",
       "Afghanistan   NaN   NaN   NaN   NaN   NaN   NaN   NaN  1.242622  2.026442   \n",
       "\n",
       "                 2004      2005      2006      2007      2008     2009  \\\n",
       "Country                                                                  \n",
       "Abkhazia          NaN       NaN       NaN       NaN       NaN      NaN   \n",
       "Afghanistan  2.509185  4.109661  4.272342  4.908018  4.503357  5.28359   \n",
       "\n",
       "                 2010  \n",
       "Country                \n",
       "Abkhazia          NaN  \n",
       "Afghanistan  5.182912  "
      ]
     },
     "execution_count": 801,
     "metadata": {},
     "output_type": "execute_result"
    }
   ],
   "source": [
    "gov_health_exp_df.rename(columns={'Per capita government expenditure on health (PPP int. $)':'Country'}, inplace=True)\n",
    "gov_health_exp_df.set_index('Country', inplace=True)\n",
    "gov_health_exp_df.head(2)"
   ]
  },
  {
   "cell_type": "code",
   "execution_count": 802,
   "metadata": {
    "collapsed": false
   },
   "outputs": [
    {
     "data": {
      "text/html": [
       "<div>\n",
       "<table border=\"1\" class=\"dataframe\">\n",
       "  <thead>\n",
       "    <tr style=\"text-align: right;\">\n",
       "      <th></th>\n",
       "      <th>1995</th>\n",
       "      <th>1996</th>\n",
       "      <th>1997</th>\n",
       "      <th>1998</th>\n",
       "      <th>1999</th>\n",
       "      <th>2000</th>\n",
       "      <th>2001</th>\n",
       "      <th>2002</th>\n",
       "      <th>2003</th>\n",
       "      <th>2004</th>\n",
       "      <th>2005</th>\n",
       "      <th>2006</th>\n",
       "      <th>2007</th>\n",
       "      <th>2008</th>\n",
       "      <th>2009</th>\n",
       "      <th>2010</th>\n",
       "    </tr>\n",
       "    <tr>\n",
       "      <th>Country</th>\n",
       "      <th></th>\n",
       "      <th></th>\n",
       "      <th></th>\n",
       "      <th></th>\n",
       "      <th></th>\n",
       "      <th></th>\n",
       "      <th></th>\n",
       "      <th></th>\n",
       "      <th></th>\n",
       "      <th></th>\n",
       "      <th></th>\n",
       "      <th></th>\n",
       "      <th></th>\n",
       "      <th></th>\n",
       "      <th></th>\n",
       "      <th></th>\n",
       "    </tr>\n",
       "  </thead>\n",
       "  <tbody>\n",
       "    <tr>\n",
       "      <th>Abkhazia</th>\n",
       "      <td>NaN</td>\n",
       "      <td>NaN</td>\n",
       "      <td>NaN</td>\n",
       "      <td>NaN</td>\n",
       "      <td>NaN</td>\n",
       "      <td>NaN</td>\n",
       "      <td>NaN</td>\n",
       "      <td>NaN</td>\n",
       "      <td>NaN</td>\n",
       "      <td>NaN</td>\n",
       "      <td>NaN</td>\n",
       "      <td>NaN</td>\n",
       "      <td>NaN</td>\n",
       "      <td>NaN</td>\n",
       "      <td>NaN</td>\n",
       "      <td>NaN</td>\n",
       "    </tr>\n",
       "    <tr>\n",
       "      <th>Afghanistan</th>\n",
       "      <td>NaN</td>\n",
       "      <td>NaN</td>\n",
       "      <td>NaN</td>\n",
       "      <td>NaN</td>\n",
       "      <td>NaN</td>\n",
       "      <td>NaN</td>\n",
       "      <td>NaN</td>\n",
       "      <td>22.114557</td>\n",
       "      <td>29.684998</td>\n",
       "      <td>32.124328</td>\n",
       "      <td>35.577605</td>\n",
       "      <td>36.167636</td>\n",
       "      <td>40.358763</td>\n",
       "      <td>38.255108</td>\n",
       "      <td>45.565772</td>\n",
       "      <td>44.465952</td>\n",
       "    </tr>\n",
       "  </tbody>\n",
       "</table>\n",
       "</div>"
      ],
      "text/plain": [
       "             1995  1996  1997  1998  1999  2000  2001       2002       2003  \\\n",
       "Country                                                                       \n",
       "Abkhazia      NaN   NaN   NaN   NaN   NaN   NaN   NaN        NaN        NaN   \n",
       "Afghanistan   NaN   NaN   NaN   NaN   NaN   NaN   NaN  22.114557  29.684998   \n",
       "\n",
       "                  2004       2005       2006       2007       2008       2009  \\\n",
       "Country                                                                         \n",
       "Abkhazia           NaN        NaN        NaN        NaN        NaN        NaN   \n",
       "Afghanistan  32.124328  35.577605  36.167636  40.358763  38.255108  45.565772   \n",
       "\n",
       "                  2010  \n",
       "Country                 \n",
       "Abkhazia           NaN  \n",
       "Afghanistan  44.465952  "
      ]
     },
     "execution_count": 802,
     "metadata": {},
     "output_type": "execute_result"
    }
   ],
   "source": [
    "total_health_exp_df.rename(columns={'Per capita total expenditure on health (PPP int. $)':'Country'}, inplace=True)\n",
    "total_health_exp_df.set_index('Country', inplace=True)\n",
    "total_health_exp_df.head(2)"
   ]
  },
  {
   "cell_type": "markdown",
   "metadata": {},
   "source": [
    "> A subset of 'total_health_exp_df' is built here for the list of top ten countries with highest number of HDI index in 2011. "
   ]
  },
  {
   "cell_type": "code",
   "execution_count": 803,
   "metadata": {
    "collapsed": false
   },
   "outputs": [
    {
     "data": {
      "text/html": [
       "<div>\n",
       "<table border=\"1\" class=\"dataframe\">\n",
       "  <thead>\n",
       "    <tr style=\"text-align: right;\">\n",
       "      <th></th>\n",
       "      <th>1995</th>\n",
       "      <th>1996</th>\n",
       "      <th>1997</th>\n",
       "      <th>1998</th>\n",
       "      <th>1999</th>\n",
       "      <th>2000</th>\n",
       "      <th>2001</th>\n",
       "      <th>2002</th>\n",
       "      <th>2003</th>\n",
       "      <th>2004</th>\n",
       "      <th>2005</th>\n",
       "      <th>2006</th>\n",
       "      <th>2007</th>\n",
       "      <th>2008</th>\n",
       "      <th>2009</th>\n",
       "      <th>2010</th>\n",
       "    </tr>\n",
       "    <tr>\n",
       "      <th>Country</th>\n",
       "      <th></th>\n",
       "      <th></th>\n",
       "      <th></th>\n",
       "      <th></th>\n",
       "      <th></th>\n",
       "      <th></th>\n",
       "      <th></th>\n",
       "      <th></th>\n",
       "      <th></th>\n",
       "      <th></th>\n",
       "      <th></th>\n",
       "      <th></th>\n",
       "      <th></th>\n",
       "      <th></th>\n",
       "      <th></th>\n",
       "      <th></th>\n",
       "    </tr>\n",
       "  </thead>\n",
       "  <tbody>\n",
       "    <tr>\n",
       "      <th>Norway</th>\n",
       "      <td>2155.135765</td>\n",
       "      <td>2265.338754</td>\n",
       "      <td>2348.468959</td>\n",
       "      <td>2536.162460</td>\n",
       "      <td>2779.856742</td>\n",
       "      <td>3041.967350</td>\n",
       "      <td>3264.552259</td>\n",
       "      <td>3627.776036</td>\n",
       "      <td>3834.437502</td>\n",
       "      <td>4078.671071</td>\n",
       "      <td>4304.132995</td>\n",
       "      <td>4608.371886</td>\n",
       "      <td>4887.828109</td>\n",
       "      <td>5228.935532</td>\n",
       "      <td>5352.690316</td>\n",
       "      <td>5426.078177</td>\n",
       "    </tr>\n",
       "    <tr>\n",
       "      <th>Australia</th>\n",
       "      <td>1596.537533</td>\n",
       "      <td>1700.615430</td>\n",
       "      <td>1804.000654</td>\n",
       "      <td>1941.546408</td>\n",
       "      <td>2085.299782</td>\n",
       "      <td>2252.727448</td>\n",
       "      <td>2373.557882</td>\n",
       "      <td>2543.450068</td>\n",
       "      <td>2658.094774</td>\n",
       "      <td>2860.819645</td>\n",
       "      <td>2958.261806</td>\n",
       "      <td>3137.686345</td>\n",
       "      <td>3313.792536</td>\n",
       "      <td>3408.736167</td>\n",
       "      <td>3483.764413</td>\n",
       "      <td>3441.042109</td>\n",
       "    </tr>\n",
       "    <tr>\n",
       "      <th>Netherlands</th>\n",
       "      <td>1794.085845</td>\n",
       "      <td>1859.062564</td>\n",
       "      <td>1915.061110</td>\n",
       "      <td>2053.963977</td>\n",
       "      <td>2178.395378</td>\n",
       "      <td>2340.075534</td>\n",
       "      <td>2554.653974</td>\n",
       "      <td>2833.337590</td>\n",
       "      <td>3098.279541</td>\n",
       "      <td>3310.428196</td>\n",
       "      <td>3451.031405</td>\n",
       "      <td>3700.742105</td>\n",
       "      <td>3944.607608</td>\n",
       "      <td>4227.721899</td>\n",
       "      <td>4880.810487</td>\n",
       "      <td>5037.825355</td>\n",
       "    </tr>\n",
       "    <tr>\n",
       "      <th>United States</th>\n",
       "      <td>3747.692121</td>\n",
       "      <td>3899.976933</td>\n",
       "      <td>4054.627219</td>\n",
       "      <td>4235.837199</td>\n",
       "      <td>4450.044994</td>\n",
       "      <td>4703.467344</td>\n",
       "      <td>5051.944952</td>\n",
       "      <td>5452.996081</td>\n",
       "      <td>5981.681058</td>\n",
       "      <td>6330.932631</td>\n",
       "      <td>6700.269097</td>\n",
       "      <td>7072.560632</td>\n",
       "      <td>7437.292298</td>\n",
       "      <td>7719.627428</td>\n",
       "      <td>7959.953538</td>\n",
       "      <td>8361.732117</td>\n",
       "    </tr>\n",
       "    <tr>\n",
       "      <th>New Zealand</th>\n",
       "      <td>1239.327978</td>\n",
       "      <td>1263.455533</td>\n",
       "      <td>1348.537152</td>\n",
       "      <td>1447.934499</td>\n",
       "      <td>1519.190057</td>\n",
       "      <td>1602.777408</td>\n",
       "      <td>1700.761620</td>\n",
       "      <td>1831.331618</td>\n",
       "      <td>1841.402233</td>\n",
       "      <td>1967.233143</td>\n",
       "      <td>2117.106112</td>\n",
       "      <td>2379.079553</td>\n",
       "      <td>2436.970798</td>\n",
       "      <td>2691.592434</td>\n",
       "      <td>2906.911242</td>\n",
       "      <td>3020.053027</td>\n",
       "    </tr>\n",
       "    <tr>\n",
       "      <th>Canada</th>\n",
       "      <td>2054.113249</td>\n",
       "      <td>2055.860409</td>\n",
       "      <td>2150.189447</td>\n",
       "      <td>2309.223698</td>\n",
       "      <td>2416.209728</td>\n",
       "      <td>2519.119611</td>\n",
       "      <td>2732.903261</td>\n",
       "      <td>2871.074975</td>\n",
       "      <td>3058.334645</td>\n",
       "      <td>3210.732294</td>\n",
       "      <td>3449.054315</td>\n",
       "      <td>3673.451360</td>\n",
       "      <td>3849.577809</td>\n",
       "      <td>3995.922838</td>\n",
       "      <td>4314.426611</td>\n",
       "      <td>4403.621980</td>\n",
       "    </tr>\n",
       "    <tr>\n",
       "      <th>Ireland</th>\n",
       "      <td>1189.617075</td>\n",
       "      <td>1272.802447</td>\n",
       "      <td>1376.046058</td>\n",
       "      <td>1475.482548</td>\n",
       "      <td>1572.916856</td>\n",
       "      <td>1761.687260</td>\n",
       "      <td>2060.217174</td>\n",
       "      <td>2334.920507</td>\n",
       "      <td>2539.655739</td>\n",
       "      <td>2762.284753</td>\n",
       "      <td>2939.896079</td>\n",
       "      <td>3178.014651</td>\n",
       "      <td>3472.852411</td>\n",
       "      <td>3766.267721</td>\n",
       "      <td>3756.900191</td>\n",
       "      <td>3703.960031</td>\n",
       "    </tr>\n",
       "    <tr>\n",
       "      <th>Liechtenstein</th>\n",
       "      <td>NaN</td>\n",
       "      <td>NaN</td>\n",
       "      <td>NaN</td>\n",
       "      <td>NaN</td>\n",
       "      <td>NaN</td>\n",
       "      <td>NaN</td>\n",
       "      <td>NaN</td>\n",
       "      <td>NaN</td>\n",
       "      <td>NaN</td>\n",
       "      <td>NaN</td>\n",
       "      <td>NaN</td>\n",
       "      <td>NaN</td>\n",
       "      <td>NaN</td>\n",
       "      <td>NaN</td>\n",
       "      <td>NaN</td>\n",
       "      <td>NaN</td>\n",
       "    </tr>\n",
       "    <tr>\n",
       "      <th>Germany</th>\n",
       "      <td>2275.503494</td>\n",
       "      <td>2401.972799</td>\n",
       "      <td>2417.394607</td>\n",
       "      <td>2489.918059</td>\n",
       "      <td>2591.078523</td>\n",
       "      <td>2679.213596</td>\n",
       "      <td>2807.146182</td>\n",
       "      <td>2944.794336</td>\n",
       "      <td>3097.576423</td>\n",
       "      <td>3170.220929</td>\n",
       "      <td>3363.944738</td>\n",
       "      <td>3565.886743</td>\n",
       "      <td>3724.187535</td>\n",
       "      <td>3962.546935</td>\n",
       "      <td>4218.750537</td>\n",
       "      <td>4332.335922</td>\n",
       "    </tr>\n",
       "    <tr>\n",
       "      <th>Sweden</th>\n",
       "      <td>1740.834568</td>\n",
       "      <td>1857.528833</td>\n",
       "      <td>1885.260260</td>\n",
       "      <td>1981.589192</td>\n",
       "      <td>2129.441411</td>\n",
       "      <td>2286.077127</td>\n",
       "      <td>2501.158335</td>\n",
       "      <td>2701.798762</td>\n",
       "      <td>2831.930453</td>\n",
       "      <td>2954.103739</td>\n",
       "      <td>2963.241324</td>\n",
       "      <td>3192.661546</td>\n",
       "      <td>3431.914274</td>\n",
       "      <td>3642.877476</td>\n",
       "      <td>3721.540912</td>\n",
       "      <td>3756.862825</td>\n",
       "    </tr>\n",
       "  </tbody>\n",
       "</table>\n",
       "</div>"
      ],
      "text/plain": [
       "                      1995         1996         1997         1998  \\\n",
       "Country                                                             \n",
       "Norway         2155.135765  2265.338754  2348.468959  2536.162460   \n",
       "Australia      1596.537533  1700.615430  1804.000654  1941.546408   \n",
       "Netherlands    1794.085845  1859.062564  1915.061110  2053.963977   \n",
       "United States  3747.692121  3899.976933  4054.627219  4235.837199   \n",
       "New Zealand    1239.327978  1263.455533  1348.537152  1447.934499   \n",
       "Canada         2054.113249  2055.860409  2150.189447  2309.223698   \n",
       "Ireland        1189.617075  1272.802447  1376.046058  1475.482548   \n",
       "Liechtenstein          NaN          NaN          NaN          NaN   \n",
       "Germany        2275.503494  2401.972799  2417.394607  2489.918059   \n",
       "Sweden         1740.834568  1857.528833  1885.260260  1981.589192   \n",
       "\n",
       "                      1999         2000         2001         2002  \\\n",
       "Country                                                             \n",
       "Norway         2779.856742  3041.967350  3264.552259  3627.776036   \n",
       "Australia      2085.299782  2252.727448  2373.557882  2543.450068   \n",
       "Netherlands    2178.395378  2340.075534  2554.653974  2833.337590   \n",
       "United States  4450.044994  4703.467344  5051.944952  5452.996081   \n",
       "New Zealand    1519.190057  1602.777408  1700.761620  1831.331618   \n",
       "Canada         2416.209728  2519.119611  2732.903261  2871.074975   \n",
       "Ireland        1572.916856  1761.687260  2060.217174  2334.920507   \n",
       "Liechtenstein          NaN          NaN          NaN          NaN   \n",
       "Germany        2591.078523  2679.213596  2807.146182  2944.794336   \n",
       "Sweden         2129.441411  2286.077127  2501.158335  2701.798762   \n",
       "\n",
       "                      2003         2004         2005         2006  \\\n",
       "Country                                                             \n",
       "Norway         3834.437502  4078.671071  4304.132995  4608.371886   \n",
       "Australia      2658.094774  2860.819645  2958.261806  3137.686345   \n",
       "Netherlands    3098.279541  3310.428196  3451.031405  3700.742105   \n",
       "United States  5981.681058  6330.932631  6700.269097  7072.560632   \n",
       "New Zealand    1841.402233  1967.233143  2117.106112  2379.079553   \n",
       "Canada         3058.334645  3210.732294  3449.054315  3673.451360   \n",
       "Ireland        2539.655739  2762.284753  2939.896079  3178.014651   \n",
       "Liechtenstein          NaN          NaN          NaN          NaN   \n",
       "Germany        3097.576423  3170.220929  3363.944738  3565.886743   \n",
       "Sweden         2831.930453  2954.103739  2963.241324  3192.661546   \n",
       "\n",
       "                      2007         2008         2009         2010  \n",
       "Country                                                            \n",
       "Norway         4887.828109  5228.935532  5352.690316  5426.078177  \n",
       "Australia      3313.792536  3408.736167  3483.764413  3441.042109  \n",
       "Netherlands    3944.607608  4227.721899  4880.810487  5037.825355  \n",
       "United States  7437.292298  7719.627428  7959.953538  8361.732117  \n",
       "New Zealand    2436.970798  2691.592434  2906.911242  3020.053027  \n",
       "Canada         3849.577809  3995.922838  4314.426611  4403.621980  \n",
       "Ireland        3472.852411  3766.267721  3756.900191  3703.960031  \n",
       "Liechtenstein          NaN          NaN          NaN          NaN  \n",
       "Germany        3724.187535  3962.546935  4218.750537  4332.335922  \n",
       "Sweden         3431.914274  3642.877476  3721.540912  3756.862825  "
      ]
     },
     "execution_count": 803,
     "metadata": {},
     "output_type": "execute_result"
    }
   ],
   "source": [
    "top10_hdi_countries = gapminder_df.sort_values('HDI', axis=0, ascending = False).iloc[:10]['Country']\n",
    "top10_hdi_total_health_exp_df = total_health_exp_df.loc[top10_hdi_countries, :]\n",
    "top10_hdi_total_health_exp_df"
   ]
  },
  {
   "cell_type": "code",
   "execution_count": 804,
   "metadata": {
    "collapsed": false
   },
   "outputs": [
    {
     "data": {
      "text/html": [
       "<div>\n",
       "<table border=\"1\" class=\"dataframe\">\n",
       "  <thead>\n",
       "    <tr style=\"text-align: right;\">\n",
       "      <th></th>\n",
       "      <th>1995</th>\n",
       "      <th>1996</th>\n",
       "      <th>1997</th>\n",
       "      <th>1998</th>\n",
       "      <th>1999</th>\n",
       "      <th>2000</th>\n",
       "      <th>2001</th>\n",
       "      <th>2002</th>\n",
       "      <th>2003</th>\n",
       "      <th>2004</th>\n",
       "      <th>2005</th>\n",
       "      <th>2006</th>\n",
       "      <th>2007</th>\n",
       "      <th>2008</th>\n",
       "      <th>2009</th>\n",
       "      <th>2010</th>\n",
       "    </tr>\n",
       "    <tr>\n",
       "      <th>Country</th>\n",
       "      <th></th>\n",
       "      <th></th>\n",
       "      <th></th>\n",
       "      <th></th>\n",
       "      <th></th>\n",
       "      <th></th>\n",
       "      <th></th>\n",
       "      <th></th>\n",
       "      <th></th>\n",
       "      <th></th>\n",
       "      <th></th>\n",
       "      <th></th>\n",
       "      <th></th>\n",
       "      <th></th>\n",
       "      <th></th>\n",
       "      <th></th>\n",
       "    </tr>\n",
       "  </thead>\n",
       "  <tbody>\n",
       "    <tr>\n",
       "      <th>Norway</th>\n",
       "      <td>1730.332212</td>\n",
       "      <td>1832.759793</td>\n",
       "      <td>1909.487530</td>\n",
       "      <td>2084.529094</td>\n",
       "      <td>2295.028066</td>\n",
       "      <td>2509.499900</td>\n",
       "      <td>2727.732690</td>\n",
       "      <td>3028.341474</td>\n",
       "      <td>3209.790303</td>\n",
       "      <td>3408.117250</td>\n",
       "      <td>3594.028752</td>\n",
       "      <td>3860.810914</td>\n",
       "      <td>4110.513162</td>\n",
       "      <td>4407.629301</td>\n",
       "      <td>4501.665159</td>\n",
       "      <td>4552.345610</td>\n",
       "    </tr>\n",
       "    <tr>\n",
       "      <th>Australia</th>\n",
       "      <td>1050.153733</td>\n",
       "      <td>1109.587499</td>\n",
       "      <td>1206.754416</td>\n",
       "      <td>1288.328695</td>\n",
       "      <td>1426.123235</td>\n",
       "      <td>1505.317103</td>\n",
       "      <td>1573.243567</td>\n",
       "      <td>1701.817633</td>\n",
       "      <td>1757.273673</td>\n",
       "      <td>1907.698823</td>\n",
       "      <td>1978.657281</td>\n",
       "      <td>2089.244000</td>\n",
       "      <td>2237.121183</td>\n",
       "      <td>2317.713614</td>\n",
       "      <td>2368.727825</td>\n",
       "      <td>2339.679504</td>\n",
       "    </tr>\n",
       "    <tr>\n",
       "      <th>Netherlands</th>\n",
       "      <td>1274.576561</td>\n",
       "      <td>1230.293072</td>\n",
       "      <td>1298.726634</td>\n",
       "      <td>1317.528517</td>\n",
       "      <td>1366.134814</td>\n",
       "      <td>1476.116917</td>\n",
       "      <td>1604.515241</td>\n",
       "      <td>1769.668712</td>\n",
       "      <td>1895.252030</td>\n",
       "      <td>1980.616059</td>\n",
       "      <td>2087.840500</td>\n",
       "      <td>2798.850894</td>\n",
       "      <td>2966.257297</td>\n",
       "      <td>3183.538346</td>\n",
       "      <td>3857.818635</td>\n",
       "      <td>3991.237658</td>\n",
       "    </tr>\n",
       "    <tr>\n",
       "      <th>United States</th>\n",
       "      <td>1683.124404</td>\n",
       "      <td>1753.840100</td>\n",
       "      <td>1811.228438</td>\n",
       "      <td>1843.058284</td>\n",
       "      <td>1916.391915</td>\n",
       "      <td>2031.765381</td>\n",
       "      <td>2231.182833</td>\n",
       "      <td>2404.820625</td>\n",
       "      <td>2608.070980</td>\n",
       "      <td>2785.602950</td>\n",
       "      <td>2953.582404</td>\n",
       "      <td>3174.434494</td>\n",
       "      <td>3356.070268</td>\n",
       "      <td>3554.238744</td>\n",
       "      <td>3794.852087</td>\n",
       "      <td>4436.607049</td>\n",
       "    </tr>\n",
       "    <tr>\n",
       "      <th>New Zealand</th>\n",
       "      <td>956.374438</td>\n",
       "      <td>968.829397</td>\n",
       "      <td>1042.274705</td>\n",
       "      <td>1115.405480</td>\n",
       "      <td>1177.096149</td>\n",
       "      <td>1250.424197</td>\n",
       "      <td>1299.761955</td>\n",
       "      <td>1426.563145</td>\n",
       "      <td>1442.525266</td>\n",
       "      <td>1566.499300</td>\n",
       "      <td>1686.907074</td>\n",
       "      <td>1904.961747</td>\n",
       "      <td>2007.944871</td>\n",
       "      <td>2229.804991</td>\n",
       "      <td>2413.501512</td>\n",
       "      <td>2513.316400</td>\n",
       "    </tr>\n",
       "    <tr>\n",
       "      <th>Canada</th>\n",
       "      <td>1463.524479</td>\n",
       "      <td>1455.042966</td>\n",
       "      <td>1507.749724</td>\n",
       "      <td>1629.503113</td>\n",
       "      <td>1690.534703</td>\n",
       "      <td>1772.345336</td>\n",
       "      <td>1912.494909</td>\n",
       "      <td>1996.129126</td>\n",
       "      <td>2145.929801</td>\n",
       "      <td>2254.654690</td>\n",
       "      <td>2422.024391</td>\n",
       "      <td>2563.147815</td>\n",
       "      <td>2703.339989</td>\n",
       "      <td>2816.723549</td>\n",
       "      <td>3047.061937</td>\n",
       "      <td>3104.412862</td>\n",
       "    </tr>\n",
       "    <tr>\n",
       "      <th>Ireland</th>\n",
       "      <td>862.707721</td>\n",
       "      <td>910.548430</td>\n",
       "      <td>1031.128665</td>\n",
       "      <td>1101.913899</td>\n",
       "      <td>1183.737893</td>\n",
       "      <td>1322.446817</td>\n",
       "      <td>1560.265728</td>\n",
       "      <td>1781.040132</td>\n",
       "      <td>1942.250042</td>\n",
       "      <td>2136.838145</td>\n",
       "      <td>2262.476214</td>\n",
       "      <td>2440.435459</td>\n",
       "      <td>2670.009338</td>\n",
       "      <td>2888.790699</td>\n",
       "      <td>2814.193830</td>\n",
       "      <td>2561.556843</td>\n",
       "    </tr>\n",
       "    <tr>\n",
       "      <th>Liechtenstein</th>\n",
       "      <td>NaN</td>\n",
       "      <td>NaN</td>\n",
       "      <td>NaN</td>\n",
       "      <td>NaN</td>\n",
       "      <td>NaN</td>\n",
       "      <td>NaN</td>\n",
       "      <td>NaN</td>\n",
       "      <td>NaN</td>\n",
       "      <td>NaN</td>\n",
       "      <td>NaN</td>\n",
       "      <td>NaN</td>\n",
       "      <td>NaN</td>\n",
       "      <td>NaN</td>\n",
       "      <td>NaN</td>\n",
       "      <td>NaN</td>\n",
       "      <td>NaN</td>\n",
       "    </tr>\n",
       "    <tr>\n",
       "      <th>Germany</th>\n",
       "      <td>1851.309034</td>\n",
       "      <td>1967.959348</td>\n",
       "      <td>1949.051633</td>\n",
       "      <td>1988.652476</td>\n",
       "      <td>2067.377137</td>\n",
       "      <td>2129.923917</td>\n",
       "      <td>2225.566321</td>\n",
       "      <td>2326.690534</td>\n",
       "      <td>2429.611751</td>\n",
       "      <td>2432.043118</td>\n",
       "      <td>2577.063543</td>\n",
       "      <td>2725.368821</td>\n",
       "      <td>2846.138609</td>\n",
       "      <td>3033.489331</td>\n",
       "      <td>3242.668572</td>\n",
       "      <td>3339.321031</td>\n",
       "    </tr>\n",
       "    <tr>\n",
       "      <th>Sweden</th>\n",
       "      <td>1508.428734</td>\n",
       "      <td>1614.711811</td>\n",
       "      <td>1617.931224</td>\n",
       "      <td>1700.082727</td>\n",
       "      <td>1825.500309</td>\n",
       "      <td>1940.657723</td>\n",
       "      <td>2029.340561</td>\n",
       "      <td>2199.915637</td>\n",
       "      <td>2322.374693</td>\n",
       "      <td>2403.856460</td>\n",
       "      <td>2404.912516</td>\n",
       "      <td>2590.208328</td>\n",
       "      <td>2792.103829</td>\n",
       "      <td>2969.125127</td>\n",
       "      <td>3032.717692</td>\n",
       "      <td>3046.779520</td>\n",
       "    </tr>\n",
       "  </tbody>\n",
       "</table>\n",
       "</div>"
      ],
      "text/plain": [
       "                      1995         1996         1997         1998  \\\n",
       "Country                                                             \n",
       "Norway         1730.332212  1832.759793  1909.487530  2084.529094   \n",
       "Australia      1050.153733  1109.587499  1206.754416  1288.328695   \n",
       "Netherlands    1274.576561  1230.293072  1298.726634  1317.528517   \n",
       "United States  1683.124404  1753.840100  1811.228438  1843.058284   \n",
       "New Zealand     956.374438   968.829397  1042.274705  1115.405480   \n",
       "Canada         1463.524479  1455.042966  1507.749724  1629.503113   \n",
       "Ireland         862.707721   910.548430  1031.128665  1101.913899   \n",
       "Liechtenstein          NaN          NaN          NaN          NaN   \n",
       "Germany        1851.309034  1967.959348  1949.051633  1988.652476   \n",
       "Sweden         1508.428734  1614.711811  1617.931224  1700.082727   \n",
       "\n",
       "                      1999         2000         2001         2002  \\\n",
       "Country                                                             \n",
       "Norway         2295.028066  2509.499900  2727.732690  3028.341474   \n",
       "Australia      1426.123235  1505.317103  1573.243567  1701.817633   \n",
       "Netherlands    1366.134814  1476.116917  1604.515241  1769.668712   \n",
       "United States  1916.391915  2031.765381  2231.182833  2404.820625   \n",
       "New Zealand    1177.096149  1250.424197  1299.761955  1426.563145   \n",
       "Canada         1690.534703  1772.345336  1912.494909  1996.129126   \n",
       "Ireland        1183.737893  1322.446817  1560.265728  1781.040132   \n",
       "Liechtenstein          NaN          NaN          NaN          NaN   \n",
       "Germany        2067.377137  2129.923917  2225.566321  2326.690534   \n",
       "Sweden         1825.500309  1940.657723  2029.340561  2199.915637   \n",
       "\n",
       "                      2003         2004         2005         2006  \\\n",
       "Country                                                             \n",
       "Norway         3209.790303  3408.117250  3594.028752  3860.810914   \n",
       "Australia      1757.273673  1907.698823  1978.657281  2089.244000   \n",
       "Netherlands    1895.252030  1980.616059  2087.840500  2798.850894   \n",
       "United States  2608.070980  2785.602950  2953.582404  3174.434494   \n",
       "New Zealand    1442.525266  1566.499300  1686.907074  1904.961747   \n",
       "Canada         2145.929801  2254.654690  2422.024391  2563.147815   \n",
       "Ireland        1942.250042  2136.838145  2262.476214  2440.435459   \n",
       "Liechtenstein          NaN          NaN          NaN          NaN   \n",
       "Germany        2429.611751  2432.043118  2577.063543  2725.368821   \n",
       "Sweden         2322.374693  2403.856460  2404.912516  2590.208328   \n",
       "\n",
       "                      2007         2008         2009         2010  \n",
       "Country                                                            \n",
       "Norway         4110.513162  4407.629301  4501.665159  4552.345610  \n",
       "Australia      2237.121183  2317.713614  2368.727825  2339.679504  \n",
       "Netherlands    2966.257297  3183.538346  3857.818635  3991.237658  \n",
       "United States  3356.070268  3554.238744  3794.852087  4436.607049  \n",
       "New Zealand    2007.944871  2229.804991  2413.501512  2513.316400  \n",
       "Canada         2703.339989  2816.723549  3047.061937  3104.412862  \n",
       "Ireland        2670.009338  2888.790699  2814.193830  2561.556843  \n",
       "Liechtenstein          NaN          NaN          NaN          NaN  \n",
       "Germany        2846.138609  3033.489331  3242.668572  3339.321031  \n",
       "Sweden         2792.103829  2969.125127  3032.717692  3046.779520  "
      ]
     },
     "execution_count": 804,
     "metadata": {},
     "output_type": "execute_result"
    }
   ],
   "source": [
    "top10_hdi_gov_health_exp_df = gov_health_exp_df.loc[top10_hdi_countries, :]\n",
    "top10_hdi_gov_health_exp_df"
   ]
  },
  {
   "cell_type": "markdown",
   "metadata": {},
   "source": [
    "### Data Cleaning\n",
    "> In this section we will clean and trim the previously built DataFrames. \n",
    "> First, I will check the data types in each DataFrame to see if there is any inconsistency. Secondly, I will investigate NaN values. Finally, I will do some extra trimming if it is required. \n",
    "#### Checking the data types"
   ]
  },
  {
   "cell_type": "code",
   "execution_count": 805,
   "metadata": {
    "collapsed": false
   },
   "outputs": [
    {
     "name": "stdout",
     "output_type": "stream",
     "text": [
      "Country        object\n",
      "Population     object\n",
      "Region         object\n",
      "Income        float64\n",
      "LifeExpect    float64\n",
      "MedianAge     float64\n",
      "HDI           float64\n",
      "dtype: object\n",
      "1995    float64\n",
      "1996    float64\n",
      "1997    float64\n",
      "1998    float64\n",
      "1999    float64\n",
      "2000    float64\n",
      "2001    float64\n",
      "2002    float64\n",
      "2003    float64\n",
      "2004    float64\n",
      "2005    float64\n",
      "2006    float64\n",
      "2007    float64\n",
      "2008    float64\n",
      "2009    float64\n",
      "2010    float64\n",
      "dtype: object\n",
      "1995    float64\n",
      "1996    float64\n",
      "1997    float64\n",
      "1998    float64\n",
      "1999    float64\n",
      "2000    float64\n",
      "2001    float64\n",
      "2002    float64\n",
      "2003    float64\n",
      "2004    float64\n",
      "2005    float64\n",
      "2006    float64\n",
      "2007    float64\n",
      "2008    float64\n",
      "2009    float64\n",
      "2010    float64\n",
      "dtype: object\n"
     ]
    }
   ],
   "source": [
    "print gapminder_df.dtypes\n",
    "print top10_hdi_gov_health_exp_df.dtypes\n",
    "print top10_hdi_total_health_exp_df.dtypes"
   ]
  },
  {
   "cell_type": "markdown",
   "metadata": {},
   "source": [
    "> The data type of all the fields except 'Population' in 'gapminder_df' is float64. The 'Population' data type should be also float64, but it is 'object'. looking more closely into the data, I found that some population numbers have been splitted with ',' and consequently Pandas will treat them as strings not numbers.  "
   ]
  },
  {
   "cell_type": "code",
   "execution_count": 806,
   "metadata": {
    "collapsed": false
   },
   "outputs": [
    {
     "name": "stdout",
     "output_type": "stream",
     "text": [
      "23,968,973\n"
     ]
    }
   ],
   "source": [
    "print gapminder_df.loc[13,'Population']"
   ]
  },
  {
   "cell_type": "markdown",
   "metadata": {},
   "source": [
    "> Here I find comma splitted numbers, and modify them. Then I change the datatype to 'float64'"
   ]
  },
  {
   "cell_type": "code",
   "execution_count": 807,
   "metadata": {
    "collapsed": false
   },
   "outputs": [
    {
     "name": "stdout",
     "output_type": "stream",
     "text": [
      "float64\n"
     ]
    }
   ],
   "source": [
    "gapminder_df['Population'] = gapminder_df['Population'].str.replace(',', '')                 \n",
    "gapminder_df['Population'] = gapminder_df['Population'].astype('float64')\n",
    "print gapminder_df['Population'].dtype"
   ]
  },
  {
   "cell_type": "markdown",
   "metadata": {},
   "source": [
    "#### NaN Values\n",
    "> In this section I will find NaN values in each column and treat them accordingly. starting with 'Population', I drop countries for which there is no information about population. "
   ]
  },
  {
   "cell_type": "code",
   "execution_count": 808,
   "metadata": {
    "collapsed": true
   },
   "outputs": [],
   "source": [
    "gapminder_df.dropna(axis=0, how='any', thresh=None, subset=['Population'], inplace=True)"
   ]
  },
  {
   "cell_type": "markdown",
   "metadata": {},
   "source": [
    "> Based on my experience, many times countries with very small population are outlier and they distort the results. Therefore, here I delete countries with population less than 3 million from the 'gapminder_df'. "
   ]
  },
  {
   "cell_type": "code",
   "execution_count": 809,
   "metadata": {
    "collapsed": true
   },
   "outputs": [],
   "source": [
    "gapminder_df = gapminder_df[gapminder_df['Population'] > 3000000]"
   ]
  },
  {
   "cell_type": "markdown",
   "metadata": {},
   "source": [
    "> Since the country names are unique for each row of 'gapminder_df' I will define 'Country' column as its index"
   ]
  },
  {
   "cell_type": "code",
   "execution_count": 810,
   "metadata": {
    "collapsed": false
   },
   "outputs": [],
   "source": [
    "gapminder_df.set_index('Country', inplace=True)"
   ]
  },
  {
   "cell_type": "code",
   "execution_count": 811,
   "metadata": {
    "collapsed": false
   },
   "outputs": [
    {
     "name": "stdout",
     "output_type": "stream",
     "text": [
      "Index([u'Hong Kong, China', u'Lao', u'Myanmar', u'West Bank and Gaza',\n",
      "       u'South Sudan'],\n",
      "      dtype='object', name=u'Country')\n"
     ]
    }
   ],
   "source": [
    "## Here are the rows with NaN value in the 'Region' column\n",
    "print gapminder_df[gapminder_df['Region'].isnull()].index"
   ]
  },
  {
   "cell_type": "markdown",
   "metadata": {},
   "source": [
    "> After looking into the 'region_df', I found that the reason is some country name inconsistencies between region_df and population_df. For example, the name of 'Lao' in gapminder_df is 'Laos' in region_df, and so on. Here, I substitute the NaN values in gapminder_df with related values in region_df"
   ]
  },
  {
   "cell_type": "code",
   "execution_count": 812,
   "metadata": {
    "collapsed": true
   },
   "outputs": [],
   "source": [
    "region_df.set_index('Country', inplace=True)\n",
    "gapminder_df.loc['Lao','Region'] = region_df.get_value('Laos', 'Region')\n",
    "gapminder_df.loc['Hong Kong, China','Region'] = region_df.get_value('Hong Kong', 'Region')\n",
    "gapminder_df.loc['Myanmar','Region'] = region_df.get_value('Burma', 'Region')\n",
    "gapminder_df.loc['West Bank and Gaza','Region'] = region_df.get_value('West Bank', 'Region')\n",
    "gapminder_df.loc['South Sudan','Region'] = region_df.get_value('Sudan', 'Region')"
   ]
  },
  {
   "cell_type": "code",
   "execution_count": 813,
   "metadata": {
    "collapsed": false
   },
   "outputs": [
    {
     "name": "stdout",
     "output_type": "stream",
     "text": [
      "Index([u'Central African Republic', u'Czech Republic', u'Dominican Republic',\n",
      "       u'North Korea', u'South Korea', u'Kyrgyz Republic', u'Lao', u'Yemen',\n",
      "       u'South Sudan'],\n",
      "      dtype='object', name=u'Country')\n"
     ]
    }
   ],
   "source": [
    "## Here are the rows with NaN value in the 'MedianAge' column\n",
    "print gapminder_df[gapminder_df['MedianAge'].isnull()].index"
   ]
  },
  {
   "cell_type": "markdown",
   "metadata": {},
   "source": [
    "> again the reason for NaN values are name inconsistencies, so I substitute the NaN values in gapminder_df with related values in median_age_2015_df. Furthermore, I will drop the 'South Sudan' row from the DataFrame, because there is no data for its median age in median_age_2015_df"
   ]
  },
  {
   "cell_type": "code",
   "execution_count": 814,
   "metadata": {
    "collapsed": false
   },
   "outputs": [],
   "source": [
    "median_age_2015_df.set_index('Country', inplace=True)\n",
    "\n",
    "gapminder_df.loc['Central African Republic','MedianAge'] = median_age_2015_df.get_value('Central African Rep.', 'MedianAge')\n",
    "gapminder_df.loc['Czech Republic','MedianAge'] = median_age_2015_df.get_value('Czech Rep.', 'MedianAge')\n",
    "gapminder_df.loc['Dominican Republic','MedianAge'] = median_age_2015_df.get_value('Dominican Rep.', 'MedianAge')\n",
    "gapminder_df.loc['North Korea','MedianAge'] = median_age_2015_df.get_value('Korea, Dem. Rep.', 'MedianAge')\n",
    "gapminder_df.loc['South Korea','MedianAge'] = median_age_2015_df.get_value('Korea, Rep.', 'MedianAge')\n",
    "gapminder_df.loc['Kyrgyz Republic','MedianAge'] = median_age_2015_df.get_value('Kyrgyzstan', 'MedianAge')\n",
    "gapminder_df.loc['Lao','MedianAge'] = median_age_2015_df.get_value('Laos', 'MedianAge')\n",
    "gapminder_df.loc['Yemen','MedianAge'] = median_age_2015_df.get_value('Yemen, Rep.', 'MedianAge')"
   ]
  },
  {
   "cell_type": "code",
   "execution_count": 815,
   "metadata": {
    "collapsed": true
   },
   "outputs": [],
   "source": [
    "gapminder_df.drop(['South Sudan'], inplace=True)"
   ]
  },
  {
   "cell_type": "code",
   "execution_count": 816,
   "metadata": {
    "collapsed": false
   },
   "outputs": [
    {
     "name": "stdout",
     "output_type": "stream",
     "text": [
      "Index([], dtype='object', name=u'Country')\n",
      "Index([], dtype='object', name=u'Country')\n"
     ]
    }
   ],
   "source": [
    "## Here are the rows with NaN value in the 'Income' and 'LifeExpect' columns\n",
    "print gapminder_df[gapminder_df['Income'].isnull()].index\n",
    "print gapminder_df[gapminder_df['LifeExpect'].isnull()].index"
   ]
  },
  {
   "cell_type": "markdown",
   "metadata": {},
   "source": [
    "> Since there is no NaN values in these columns, no further modification is required. "
   ]
  },
  {
   "cell_type": "code",
   "execution_count": 817,
   "metadata": {
    "collapsed": false
   },
   "outputs": [
    {
     "name": "stdout",
     "output_type": "stream",
     "text": [
      "Index([u'North Korea', u'Puerto Rico', u'Somalia'], dtype='object', name=u'Country')\n"
     ]
    }
   ],
   "source": [
    "## Here are the rows with NaN value in the 'HDI' column\n",
    "print gapminder_df[gapminder_df['HDI'].isnull()].index"
   ]
  },
  {
   "cell_type": "markdown",
   "metadata": {},
   "source": [
    "> There is no HDI data for North Korea, Puerto Rico, and Somalia. But, because their data in other fields is not NaN, I will keep these rows. \n",
    "> In both 'top10_hdi_total_health_exp_df' and 'top10_hdi_gov_health_exp_df' the data for 'Liechtenstein' is NaN in all of the fiels; therefore I drop Liechtenstein from both of them"
   ]
  },
  {
   "cell_type": "code",
   "execution_count": 818,
   "metadata": {
    "collapsed": false
   },
   "outputs": [],
   "source": [
    "top10_hdi_total_health_exp_df.drop(['Liechtenstein'], inplace=True)\n",
    "top10_hdi_gov_health_exp_df.drop(['Liechtenstein'], inplace=True)"
   ]
  },
  {
   "cell_type": "markdown",
   "metadata": {},
   "source": [
    "<a id='eda'></a>\n",
    "## Exploratory Data Analysis\n",
    "\n",
    "> In this section I will create visualizations based on descriptive statistics with the goal of addressing the three research questions that I posed in the Introduction section. \n",
    "\n",
    "### How is the distribution of the 'Population', 'Median Age', 'Life Expectancy' and 'Income' over World Countries in 2015? "
   ]
  },
  {
   "cell_type": "markdown",
   "metadata": {},
   "source": [
    "> First, some descriptive statistics about 'gapminder_df' DataFrame"
   ]
  },
  {
   "cell_type": "code",
   "execution_count": 819,
   "metadata": {
    "collapsed": false
   },
   "outputs": [
    {
     "data": {
      "text/html": [
       "<div>\n",
       "<table border=\"1\" class=\"dataframe\">\n",
       "  <thead>\n",
       "    <tr style=\"text-align: right;\">\n",
       "      <th></th>\n",
       "      <th>Population</th>\n",
       "      <th>Income</th>\n",
       "      <th>LifeExpect</th>\n",
       "      <th>MedianAge</th>\n",
       "      <th>HDI</th>\n",
       "    </tr>\n",
       "  </thead>\n",
       "  <tbody>\n",
       "    <tr>\n",
       "      <th>count</th>\n",
       "      <td>1.350000e+02</td>\n",
       "      <td>135.000000</td>\n",
       "      <td>135.000000</td>\n",
       "      <td>135.000000</td>\n",
       "      <td>132.000000</td>\n",
       "    </tr>\n",
       "    <tr>\n",
       "      <th>mean</th>\n",
       "      <td>5.373981e+07</td>\n",
       "      <td>16964.600000</td>\n",
       "      <td>72.066148</td>\n",
       "      <td>29.290311</td>\n",
       "      <td>0.651879</td>\n",
       "    </tr>\n",
       "    <tr>\n",
       "      <th>std</th>\n",
       "      <td>1.664963e+08</td>\n",
       "      <td>17687.651964</td>\n",
       "      <td>8.059231</td>\n",
       "      <td>9.007882</td>\n",
       "      <td>0.184393</td>\n",
       "    </tr>\n",
       "    <tr>\n",
       "      <th>min</th>\n",
       "      <td>3.017712e+06</td>\n",
       "      <td>599.000000</td>\n",
       "      <td>49.600000</td>\n",
       "      <td>14.844000</td>\n",
       "      <td>0.286000</td>\n",
       "    </tr>\n",
       "    <tr>\n",
       "      <th>25%</th>\n",
       "      <td>7.218885e+06</td>\n",
       "      <td>3379.000000</td>\n",
       "      <td>65.600000</td>\n",
       "      <td>20.870000</td>\n",
       "      <td>0.482750</td>\n",
       "    </tr>\n",
       "    <tr>\n",
       "      <th>50%</th>\n",
       "      <td>1.614436e+07</td>\n",
       "      <td>11031.000000</td>\n",
       "      <td>74.400000</td>\n",
       "      <td>27.956000</td>\n",
       "      <td>0.690000</td>\n",
       "    </tr>\n",
       "    <tr>\n",
       "      <th>75%</th>\n",
       "      <td>3.934945e+07</td>\n",
       "      <td>24260.000000</td>\n",
       "      <td>78.650000</td>\n",
       "      <td>38.714000</td>\n",
       "      <td>0.786250</td>\n",
       "    </tr>\n",
       "    <tr>\n",
       "      <th>max</th>\n",
       "      <td>1.376049e+09</td>\n",
       "      <td>82633.000000</td>\n",
       "      <td>83.730000</td>\n",
       "      <td>46.602000</td>\n",
       "      <td>0.943000</td>\n",
       "    </tr>\n",
       "  </tbody>\n",
       "</table>\n",
       "</div>"
      ],
      "text/plain": [
       "         Population        Income  LifeExpect   MedianAge         HDI\n",
       "count  1.350000e+02    135.000000  135.000000  135.000000  132.000000\n",
       "mean   5.373981e+07  16964.600000   72.066148   29.290311    0.651879\n",
       "std    1.664963e+08  17687.651964    8.059231    9.007882    0.184393\n",
       "min    3.017712e+06    599.000000   49.600000   14.844000    0.286000\n",
       "25%    7.218885e+06   3379.000000   65.600000   20.870000    0.482750\n",
       "50%    1.614436e+07  11031.000000   74.400000   27.956000    0.690000\n",
       "75%    3.934945e+07  24260.000000   78.650000   38.714000    0.786250\n",
       "max    1.376049e+09  82633.000000   83.730000   46.602000    0.943000"
      ]
     },
     "execution_count": 819,
     "metadata": {},
     "output_type": "execute_result"
    }
   ],
   "source": [
    "gapminder_df.describe()"
   ]
  },
  {
   "cell_type": "markdown",
   "metadata": {},
   "source": [
    "#### Population\n",
    "> While average population is 54 million, Standard Deviation is 166 million! The reason for such a scattered data is obviously the populations of China and India which are over 1.2 billion each. I pull out India and china from data and calculate the statistics for the rest of the world. Average drops to 34 million, and std is 50 million."
   ]
  },
  {
   "cell_type": "code",
   "execution_count": 820,
   "metadata": {
    "collapsed": false
   },
   "outputs": [
    {
     "name": "stdout",
     "output_type": "stream",
     "text": [
      "count    1.330000e+02\n",
      "mean     3.434417e+07\n",
      "std      5.039623e+07\n",
      "min      3.017712e+06\n",
      "25%      7.149787e+06\n",
      "50%      1.560275e+07\n",
      "75%      3.861179e+07\n",
      "max      3.217736e+08\n",
      "Name: Population, dtype: float64\n"
     ]
    }
   ],
   "source": [
    "print gapminder_df['Population'].drop(['China', 'India']).describe()"
   ]
  },
  {
   "cell_type": "code",
   "execution_count": 821,
   "metadata": {
    "collapsed": false
   },
   "outputs": [
    {
     "data": {
      "text/plain": [
       "318755919.0"
      ]
     },
     "execution_count": 821,
     "metadata": {},
     "output_type": "execute_result"
    }
   ],
   "source": [
    "gapminder_df['Population'].drop(['China', 'India']).max() - gapminder_df['Population'].drop(['China', 'India']).min()"
   ]
  },
  {
   "cell_type": "markdown",
   "metadata": {},
   "source": [
    "> The population range is almost 320 million; so, in a histogram with 16 bins, we can see the frequencies for every 20 million increase in population"
   ]
  },
  {
   "cell_type": "code",
   "execution_count": 822,
   "metadata": {
    "collapsed": false
   },
   "outputs": [
    {
     "data": {
      "text/plain": [
       "<matplotlib.axes._subplots.AxesSubplot at 0x125f36f90>"
      ]
     },
     "execution_count": 822,
     "metadata": {},
     "output_type": "execute_result"
    },
    {
     "data": {
      "image/png": "[encoded data removed]",
      "text/plain": [
       "<matplotlib.figure.Figure at 0x12450fa90>"
      ]
     },
     "metadata": {},
     "output_type": "display_data"
    }
   ],
   "source": [
    "gapminder_df['Population'].drop(['China', 'India']).plot.hist(color='r', alpha=0.5, bins=16, title='Population')"
   ]
  },
  {
   "cell_type": "markdown",
   "metadata": {},
   "source": [
    "> The distribution of population is very right skewed! over 80 out of 135 countries have less than 23 million population, while the average population is 34 million. "
   ]
  },
  {
   "cell_type": "markdown",
   "metadata": {},
   "source": [
    "#### Median Age\n",
    "> The Median Age range is 32 years; In a histogram with 16 bins, we can see the frequencies for every 2 years increase in Median Age."
   ]
  },
  {
   "cell_type": "code",
   "execution_count": 823,
   "metadata": {
    "collapsed": false
   },
   "outputs": [
    {
     "data": {
      "text/plain": [
       "31.757999999999996"
      ]
     },
     "execution_count": 823,
     "metadata": {},
     "output_type": "execute_result"
    }
   ],
   "source": [
    "gapminder_df['MedianAge'].max() - gapminder_df['MedianAge'].min()"
   ]
  },
  {
   "cell_type": "code",
   "execution_count": 824,
   "metadata": {
    "collapsed": false
   },
   "outputs": [
    {
     "data": {
      "text/plain": [
       "<matplotlib.axes._subplots.AxesSubplot at 0x12584db10>"
      ]
     },
     "execution_count": 824,
     "metadata": {},
     "output_type": "execute_result"
    },
    {
     "data": {
      "image/png": "[encoded data removed]",
      "text/plain": [
       "<matplotlib.figure.Figure at 0x125f42ed0>"
      ]
     },
     "metadata": {},
     "output_type": "display_data"
    }
   ],
   "source": [
    "gapminder_df['MedianAge'].plot.hist(color='b', alpha=0.5, bins=16, title='Median Age')"
   ]
  },
  {
   "cell_type": "markdown",
   "metadata": {},
   "source": [
    "> The distribution is **bimodal**, with two peaks: 30 countries with 17-21, and 24 countries with 39-43 Median Age"
   ]
  },
  {
   "cell_type": "markdown",
   "metadata": {},
   "source": [
    "#### Life Expectancy\n",
    "> The Life Expectancy range is 34 years; In a histogram with 7 bins, we can see the frequencies for almost every 5 years increase in Median Age. "
   ]
  },
  {
   "cell_type": "code",
   "execution_count": 825,
   "metadata": {
    "collapsed": false
   },
   "outputs": [
    {
     "data": {
      "text/plain": [
       "34.130000000000003"
      ]
     },
     "execution_count": 825,
     "metadata": {},
     "output_type": "execute_result"
    }
   ],
   "source": [
    "gapminder_df['LifeExpect'].max() - gapminder_df['LifeExpect'].min()"
   ]
  },
  {
   "cell_type": "code",
   "execution_count": 826,
   "metadata": {
    "collapsed": false
   },
   "outputs": [
    {
     "data": {
      "text/plain": [
       "<matplotlib.axes._subplots.AxesSubplot at 0x1258c4990>"
      ]
     },
     "execution_count": 826,
     "metadata": {},
     "output_type": "execute_result"
    },
    {
     "data": {
      "image/png": "[encoded data removed]",
      "text/plain": [
       "<matplotlib.figure.Figure at 0x12581ab50>"
      ]
     },
     "metadata": {},
     "output_type": "display_data"
    }
   ],
   "source": [
    "gapminder_df['LifeExpect'].plot.hist(color='g', alpha=0.5, bins=7,title='Life Expectancy')"
   ]
  },
  {
   "cell_type": "markdown",
   "metadata": {},
   "source": [
    "> The distribution is left-skewd, with a peak of 39 countries for 74-79 years of life expectancy. "
   ]
  },
  {
   "cell_type": "markdown",
   "metadata": {},
   "source": [
    "#### Income\n",
    "> In a histogram with 7 bins, we can see the frequencies for almost every 4000$ increase in Income."
   ]
  },
  {
   "cell_type": "code",
   "execution_count": 827,
   "metadata": {
    "collapsed": false
   },
   "outputs": [
    {
     "data": {
      "text/plain": [
       "82034.0"
      ]
     },
     "execution_count": 827,
     "metadata": {},
     "output_type": "execute_result"
    }
   ],
   "source": [
    "gapminder_df['Income'].max() - gapminder_df['Income'].min()"
   ]
  },
  {
   "cell_type": "code",
   "execution_count": 828,
   "metadata": {
    "collapsed": false
   },
   "outputs": [
    {
     "data": {
      "text/plain": [
       "<matplotlib.axes._subplots.AxesSubplot at 0x126058750>"
      ]
     },
     "execution_count": 828,
     "metadata": {},
     "output_type": "execute_result"
    },
    {
     "data": {
      "image/png": "[encoded data removed]",
      "text/plain": [
       "<matplotlib.figure.Figure at 0x125342690>"
      ]
     },
     "metadata": {},
     "output_type": "display_data"
    }
   ],
   "source": [
    "gapminder_df['Income'].plot.hist(color='y', alpha=0.5, bins=20, title='Income in international dollars')"
   ]
  },
  {
   "cell_type": "markdown",
   "metadata": {},
   "source": [
    "> The distribution is right-skewed, with a peak of 43 countries for 600-4600$ range. it means almost one third of the countries have an income less than 4600 dollars per year per person"
   ]
  },
  {
   "cell_type": "markdown",
   "metadata": {},
   "source": [
    "### What is the state of different regions of the world based on 'Median Age', 'Life Expectency',  'Income' and 'HDI'?"
   ]
  },
  {
   "cell_type": "markdown",
   "metadata": {},
   "source": [
    "#### Median Age & Life Expectancy"
   ]
  },
  {
   "cell_type": "code",
   "execution_count": 829,
   "metadata": {
    "collapsed": false
   },
   "outputs": [
    {
     "data": {
      "text/plain": [
       "<matplotlib.axes._subplots.AxesSubplot at 0x1263896d0>"
      ]
     },
     "execution_count": 829,
     "metadata": {},
     "output_type": "execute_result"
    },
    {
     "data": {
      "image/png": "[encoded data removed]",
      "text/plain": [
       "<matplotlib.figure.Figure at 0x125efba50>"
      ]
     },
     "metadata": {},
     "output_type": "display_data"
    }
   ],
   "source": [
    "gapminder_df.groupby('Region')['LifeExpect', 'MedianAge'].mean().plot(kind='line',rot=90)"
   ]
  },
  {
   "cell_type": "markdown",
   "metadata": {},
   "source": [
    "> \n",
    "* While China in both Median-Age and Life Expectancy is above the Asia level, India is below the Asia level in both of them\n",
    "* The overall pattern of Median Age is same as that of Life Expectancy among the regions with two exceptions:\n",
    "    * Eastern Europe/Central Asia: While the Median-Age(36.2) is well above the average(29.3), the Life-Expectancy(74) is just slightly above the average(72). \n",
    "    * Latin America: While the Median-Age(28.5) is below the average(29.3), the Life-Expectancy(76) is above the average(72). \n",
    "* In Sub-Saharan Africa both the Median-Age(19) and Life Expectancy(61.2) are more than 10 years below the average. The Median-Age in Sub-Saharan Africa is less than half of the both North America and Western Europe."
   ]
  },
  {
   "cell_type": "markdown",
   "metadata": {},
   "source": [
    "#### Income"
   ]
  },
  {
   "cell_type": "code",
   "execution_count": 830,
   "metadata": {
    "collapsed": false
   },
   "outputs": [
    {
     "data": {
      "text/plain": [
       "<matplotlib.axes._subplots.AxesSubplot at 0x12649a850>"
      ]
     },
     "execution_count": 830,
     "metadata": {},
     "output_type": "execute_result"
    },
    {
     "data": {
      "image/png": "[encoded data removed]",
      "text/plain": [
       "<matplotlib.figure.Figure at 0x1264af2d0>"
      ]
     },
     "metadata": {},
     "output_type": "display_data"
    }
   ],
   "source": [
    "gapminder_df.groupby('Region')['Income'].mean().plot.line(title='Average Income in World Regions', rot=90)"
   ]
  },
  {
   "cell_type": "markdown",
   "metadata": {},
   "source": [
    "> \n",
    "* Both China and India have lower Income levels than Asia\n",
    "* India's average income(5903) is closer to Sub-Saharan Africa(2648) than Asia(16060)!\n",
    "* The average income in North America is almost 2000% more than Sub-Saharan Africa: 48324 vs 2648$\n",
    "* The income gap between North America-Western Europe and the rest of the world is huge. That's also true about Sub-Saharan Africa but in the opposite direction!"
   ]
  },
  {
   "cell_type": "markdown",
   "metadata": {},
   "source": [
    "#### Human Development Index"
   ]
  },
  {
   "cell_type": "code",
   "execution_count": 831,
   "metadata": {
    "collapsed": false
   },
   "outputs": [
    {
     "data": {
      "text/plain": [
       "<matplotlib.axes._subplots.AxesSubplot at 0x1267aaa50>"
      ]
     },
     "execution_count": 831,
     "metadata": {},
     "output_type": "execute_result"
    },
    {
     "data": {
      "image/png": "[encoded data removed]",
      "text/plain": [
       "<matplotlib.figure.Figure at 0x1267bf710>"
      ]
     },
     "metadata": {},
     "output_type": "display_data"
    }
   ],
   "source": [
    "gapminder_df.groupby('Region')['HDI'].mean().plot(kind='line', rot=90, title='Average HDI in World Regions')"
   ]
  },
  {
   "cell_type": "markdown",
   "metadata": {},
   "source": [
    "> \n",
    "* The pattern for HDI among different regions of the world is almost same as that of income. Part of it is because income is one of the three components of HDI index\n",
    "* The biggest difference between HDI and Income Pattern is for Latin America; especially in compare with Middle East. While the Income level in Latin-America is far lower than Middle East (14000 vs 24000) the HDI index is almost the same (a little bit higher for Latin America!) \n",
    "* In HDI index in contrast with income, India is closer to Asia than Sub-Saharan Africa"
   ]
  },
  {
   "cell_type": "markdown",
   "metadata": {},
   "source": [
    "#### Life Expectancy vs Income"
   ]
  },
  {
   "cell_type": "code",
   "execution_count": 832,
   "metadata": {
    "collapsed": false
   },
   "outputs": [
    {
     "data": {
      "text/plain": [
       "<matplotlib.axes._subplots.AxesSubplot at 0x126910850>"
      ]
     },
     "execution_count": 832,
     "metadata": {},
     "output_type": "execute_result"
    },
    {
     "data": {
      "image/png": "[encoded data removed]",
      "text/plain": [
       "<matplotlib.figure.Figure at 0x1264c1910>"
      ]
     },
     "metadata": {},
     "output_type": "display_data"
    }
   ],
   "source": [
    "gapminder_df.sort_values('Income', axis=0).plot.line(x='Income', y= 'LifeExpect')"
   ]
  },
  {
   "cell_type": "code",
   "execution_count": 833,
   "metadata": {
    "collapsed": false
   },
   "outputs": [
    {
     "data": {
      "text/plain": [
       "0.71430337980078529"
      ]
     },
     "execution_count": 833,
     "metadata": {},
     "output_type": "execute_result"
    }
   ],
   "source": [
    "gapminder_df['LifeExpect'].corr(gapminder_df['Income'])"
   ]
  },
  {
   "cell_type": "markdown",
   "metadata": {},
   "source": [
    "> With income level less than 25000 the plot is quite noisy with lots of fluctuations; but in general, we can see a strong positive correlation between Income and Life Expectancy(0.7)"
   ]
  },
  {
   "cell_type": "markdown",
   "metadata": {},
   "source": [
    "### What is the trend of health expenditure for top countries in HDI index from 1995 to 2010? Is there any significant difference with respect to health expenditure among these countries?"
   ]
  },
  {
   "cell_type": "code",
   "execution_count": 834,
   "metadata": {
    "collapsed": false,
    "scrolled": true
   },
   "outputs": [
    {
     "data": {
      "text/plain": [
       "<matplotlib.axes._subplots.AxesSubplot at 0x126389990>"
      ]
     },
     "execution_count": 834,
     "metadata": {},
     "output_type": "execute_result"
    },
    {
     "data": {
      "image/png": "[encoded data removed]",
      "text/plain": [
       "<matplotlib.figure.Figure at 0x126a74190>"
      ]
     },
     "metadata": {},
     "output_type": "display_data"
    }
   ],
   "source": [
    "top10_hdi_gov_health_exp_df.transpose().plot.line(title='Government Health Spending per capita')"
   ]
  },
  {
   "cell_type": "code",
   "execution_count": 835,
   "metadata": {
    "collapsed": false
   },
   "outputs": [
    {
     "name": "stdout",
     "output_type": "stream",
     "text": [
      "1375.61459077\n",
      "3320.584053\n"
     ]
    }
   ],
   "source": [
    "print top10_hdi_gov_health_exp_df['1995'].mean()\n",
    "print top10_hdi_gov_health_exp_df['2010'].mean()"
   ]
  },
  {
   "cell_type": "code",
   "execution_count": 836,
   "metadata": {
    "collapsed": false
   },
   "outputs": [
    {
     "name": "stdout",
     "output_type": "stream",
     "text": [
      "3794.852087\n",
      "3159.79439525\n"
     ]
    }
   ],
   "source": [
    "print top10_hdi_gov_health_exp_df['2009']['United States'].mean()\n",
    "print top10_hdi_gov_health_exp_df.drop('United States')['2009'].mean()"
   ]
  },
  {
   "cell_type": "markdown",
   "metadata": {},
   "source": [
    "> \n",
    "* Government Health Spending has been almost constantly increasing for all of these countries since 1995. While the average spending in 1995 is 1376, the same number for 2010 is 3320$, 2.4 times more\n",
    "* US Government Health Spending per person is similar to other top countries in HDI index. In 2009, the US spending is 3795 and the average spending of others is 3160. Norway is the only country that its governmental health spending per person is more than US \n",
    "* US Government Health Spending increases significantly in 2009 by 17% and for the first time after 1995 catches up with Norway. This should be due to the adoption of 'Obama Care'  "
   ]
  },
  {
   "cell_type": "code",
   "execution_count": 837,
   "metadata": {
    "collapsed": false
   },
   "outputs": [
    {
     "data": {
      "text/plain": [
       "<matplotlib.axes._subplots.AxesSubplot at 0x126a74890>"
      ]
     },
     "execution_count": 837,
     "metadata": {},
     "output_type": "execute_result"
    },
    {
     "data": {
      "image/png": "[encoded data removed]",
      "text/plain": [
       "<matplotlib.figure.Figure at 0x126a92350>"
      ]
     },
     "metadata": {},
     "output_type": "display_data"
    }
   ],
   "source": [
    "top10_hdi_total_health_exp_df.transpose().plot.line(title='Total Health Spending per capita')"
   ]
  },
  {
   "cell_type": "code",
   "execution_count": 838,
   "metadata": {
    "collapsed": false
   },
   "outputs": [
    {
     "name": "stdout",
     "output_type": "stream",
     "text": [
      "1976.98306991\n",
      "4609.2790602\n"
     ]
    }
   ],
   "source": [
    "print top10_hdi_total_health_exp_df['1995'].mean()\n",
    "print top10_hdi_total_health_exp_df['2010'].mean()"
   ]
  },
  {
   "cell_type": "code",
   "execution_count": 839,
   "metadata": {
    "collapsed": false
   },
   "outputs": [
    {
     "name": "stdout",
     "output_type": "stream",
     "text": [
      "7959.95353756\n",
      "4079.4743388\n"
     ]
    }
   ],
   "source": [
    "print top10_hdi_total_health_exp_df['2009']['United States']\n",
    "print top10_hdi_total_health_exp_df.drop('United States')['2009'].mean()"
   ]
  },
  {
   "cell_type": "markdown",
   "metadata": {},
   "source": [
    "> \n",
    "* Total Health Spending has been almost constantly increasing for all of these countries since 1995. While the average spending in 1995 is 1977$, the same number for 2010 is 4609, 2.3 times more\n",
    "* Although since 1995 US Government Health Spending per person is almost equal to others, there is a huge difference between US and others when it comes to Total Health Spending per capita. In 2009, the US total spending per person is 7960 while the average spending of others is 4079. In other worlds, while US Government Health spending in 2009 is just 20% more than average spending of others, the US Total Health spending per person is 95% more than average total spending of others (almost twice)!\n",
    "* the gap between US and others has been steadily increasing since 2001"
   ]
  },
  {
   "cell_type": "markdown",
   "metadata": {},
   "source": [
    "<a id='conclusions'></a>\n",
    "## Conclusions\n",
    "\n",
    "### Limitations of this analysis\n",
    "> \n",
    "* The number of countries and territories are limited to those for which the Population and Median-Age is available, and also those with population more than 3 million. Therefore, the results are limited to 135 countries. In other words, the data for more than half of the countries and territories (140 out of 275) have not been considered in our investigation. \n",
    "* Putting 135 countries into 10 groups, based on geographical regions, makes the comparison much easier; however, the diversity inside each group is compromised. For instance, although South Africa is in Sub-Saharan Africa, its variables are closer to the countries in Asia than most of the other countries in Sub-Saharan Africa!\n",
    "* In some cases, especially when we talk about domestic issues, more parameters are required. For example, when I talk about inequalities between rural and urban areas in China and India, or inefficiency of the US health system, other variables like ‘Gini coefficient’, ‘Insurance rate’, ‘Insurance coverage’, and ‘Prescription drug prices’ must be taken into consideration. But, these parameters are beyond the scope of this analysis. \n",
    "* Almost all of the results are based on descriptive statistics\n",
    "\n",
    "### Summary of the results\n",
    "Summary of the results and conclusions is presented in three different sections, according to the three main questions of this analysis: Distribution, Regional Differences, and Health Spending\n",
    "\n",
    "### Distribution\n",
    "> This is how the distribution of our variables are among the 135 world countries with population more than 3 million: \n",
    "* **Population**: Right-Skewed (mean= 54M median= 16M mode= 0-10M)\n",
    "* **Median Age**: Bimodal (mean = 29Y, median=28Y, mode1=17-21Y mode2= 39-43Y)\n",
    "* **Life Expectancy**: Left-Skewed (mean=72Y median=74Y mode= 74-79Y)\n",
    "* **Income**: Right-Skewed (mean=17K median=11K, mode= 600-4.6K)\n",
    "\n",
    "\n",
    "### Regional Differences \n",
    "#### Median Age & Life Expectancy\n",
    "> \n",
    "* While China in both Median-Age and Life Expectancy is above the Asia level, India is below the Asia level in both of them\n",
    "* The overall pattern of 'Median Age' among the regions is same as that of 'Life Expectancy' with two exceptions: 'Eastern Europe/Central Asia' and 'Latin America'. in Eastern Europe/Central Asia while the population is already old, the expected life is short! In contrast, 'Latin America' has a young population with decent life expectancy.\n",
    "* in Sub-Saharan Africa population is extremely young and the life expectancy is quite short\n",
    "\n",
    "#### Income\n",
    "> \n",
    "* Both China and India have lower Income levels than Asia. Specially for India the average income is closer to Sub-Saharan Africa than Asia! Part of this could be because of their huge population. The other reason could be the high degree of income inequality between rural and urban regions of these two countries. (Investigating the **Gini Coefficient** could be helpful) \n",
    "* The income gap between North America-Western Europe and the rest of the world is huge; this is also true about Sub-Saharan Africa but in the opposite direction!\n",
    "\n",
    "#### HDI\n",
    ">  \n",
    "* The pattern for HDI among different regions of the world is almost same as that of income. Part of this is because income is one of the three components of HDI index\n",
    "* The biggest difference between HDI and Income pattern is for Latin America; especially in compare with Middle East. While the Income level in Latin-America is far lower than Middle East (14000 vs 24000) the HDI index is a little bit higher for Latin America! It means, Although Latin Americans make far less money than Middle East, when it comes to Life-Expectancy and Education (other 2 components of HDI) the distance is well compensated.\n",
    "* The HDI index for Sub-Saharan Africa is less than half of the HDI index for North America \n",
    "\n",
    "#### Life Expectancy vs Income\n",
    "> \n",
    "* There is a strong positive correlation between 'Income' and 'Life Expectancy' among the countries of the world\n",
    "\n",
    "### Health Spending\n",
    "> \n",
    "* Although US Government Health Spending per person is almost equal to others, the total health spending per person is US is twice as much as the other top 8 countries in the HDI index. At the same time, life expectancy in US is less than all of these countries. This clearly shows that the efficiency of health system in US is lower than others. And since the private sector is in charge of huge differences between governmental spending and the total spending, it means, for the most part, the blame is on the private health system (e.g. insurance and pharmaceutical companies)\n"
   ]
  }
 ],
 "metadata": {
  "kernelspec": {
   "display_name": "Python 2",
   "language": "python",
   "name": "python2"
  },
  "language_info": {
   "codemirror_mode": {
    "name": "ipython",
    "version": 2
   },
   "file_extension": ".py",
   "mimetype": "text/x-python",
   "name": "python",
   "nbconvert_exporter": "python",
   "pygments_lexer": "ipython2",
   "version": "2.7.13"
  }
 },
 "nbformat": 4,
 "nbformat_minor": 2
}
